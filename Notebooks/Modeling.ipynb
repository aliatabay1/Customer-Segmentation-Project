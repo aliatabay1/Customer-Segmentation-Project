{
 "cells": [
  {
   "cell_type": "markdown",
   "id": "81312152",
   "metadata": {},
   "source": [
    "### 4. Clustering"
   ]
  },
  {
   "cell_type": "code",
   "execution_count": 1,
   "id": "5c51cbbb",
   "metadata": {},
   "outputs": [],
   "source": [
    "import pandas as pd\n",
    "import numpy as np\n",
    "import os\n",
    "import matplotlib.pyplot as plt\n",
    "import seaborn as sns\n",
    "from sklearn.decomposition import PCA"
   ]
  },
  {
   "cell_type": "code",
   "execution_count": 2,
   "id": "fc8ea720",
   "metadata": {},
   "outputs": [],
   "source": [
    "c_data = pd.read_csv('../Data/c_data_preprocess.csv')\n",
    "scaled_c_data = pd.read_csv('../Data/c_data_scaled.csv')"
   ]
  },
  {
   "cell_type": "code",
   "execution_count": 3,
   "id": "6d34ffe4",
   "metadata": {},
   "outputs": [
    {
     "data": {
      "text/html": [
       "<div>\n",
       "<style scoped>\n",
       "    .dataframe tbody tr th:only-of-type {\n",
       "        vertical-align: middle;\n",
       "    }\n",
       "\n",
       "    .dataframe tbody tr th {\n",
       "        vertical-align: top;\n",
       "    }\n",
       "\n",
       "    .dataframe thead th {\n",
       "        text-align: right;\n",
       "    }\n",
       "</style>\n",
       "<table border=\"1\" class=\"dataframe\">\n",
       "  <thead>\n",
       "    <tr style=\"text-align: right;\">\n",
       "      <th></th>\n",
       "      <th>Education</th>\n",
       "      <th>Income</th>\n",
       "      <th>Recency</th>\n",
       "      <th>MntWines</th>\n",
       "      <th>MntFruits</th>\n",
       "      <th>MntMeatProducts</th>\n",
       "      <th>MntFishProducts</th>\n",
       "      <th>MntSweetProducts</th>\n",
       "      <th>MntGoldProds</th>\n",
       "      <th>NumDealsPurchases</th>\n",
       "      <th>...</th>\n",
       "      <th>AcceptedCmp2</th>\n",
       "      <th>Complain</th>\n",
       "      <th>Response</th>\n",
       "      <th>Total_Expenses</th>\n",
       "      <th>Children</th>\n",
       "      <th>Age</th>\n",
       "      <th>Relationship Status</th>\n",
       "      <th>TotalAcceptedCmp</th>\n",
       "      <th>NumTotalPurchases</th>\n",
       "      <th>Customer_Day</th>\n",
       "    </tr>\n",
       "  </thead>\n",
       "  <tbody>\n",
       "    <tr>\n",
       "      <th>0</th>\n",
       "      <td>Undergraduate</td>\n",
       "      <td>58138.0</td>\n",
       "      <td>58</td>\n",
       "      <td>635</td>\n",
       "      <td>88</td>\n",
       "      <td>546</td>\n",
       "      <td>172</td>\n",
       "      <td>88</td>\n",
       "      <td>88</td>\n",
       "      <td>3</td>\n",
       "      <td>...</td>\n",
       "      <td>0</td>\n",
       "      <td>0</td>\n",
       "      <td>1</td>\n",
       "      <td>1617</td>\n",
       "      <td>0</td>\n",
       "      <td>64</td>\n",
       "      <td>Single</td>\n",
       "      <td>1</td>\n",
       "      <td>22</td>\n",
       "      <td>971</td>\n",
       "    </tr>\n",
       "    <tr>\n",
       "      <th>1</th>\n",
       "      <td>Undergraduate</td>\n",
       "      <td>46344.0</td>\n",
       "      <td>38</td>\n",
       "      <td>11</td>\n",
       "      <td>1</td>\n",
       "      <td>6</td>\n",
       "      <td>2</td>\n",
       "      <td>1</td>\n",
       "      <td>6</td>\n",
       "      <td>2</td>\n",
       "      <td>...</td>\n",
       "      <td>0</td>\n",
       "      <td>0</td>\n",
       "      <td>0</td>\n",
       "      <td>27</td>\n",
       "      <td>2</td>\n",
       "      <td>67</td>\n",
       "      <td>Single</td>\n",
       "      <td>0</td>\n",
       "      <td>4</td>\n",
       "      <td>125</td>\n",
       "    </tr>\n",
       "    <tr>\n",
       "      <th>2</th>\n",
       "      <td>Undergraduate</td>\n",
       "      <td>71613.0</td>\n",
       "      <td>26</td>\n",
       "      <td>426</td>\n",
       "      <td>49</td>\n",
       "      <td>127</td>\n",
       "      <td>111</td>\n",
       "      <td>21</td>\n",
       "      <td>42</td>\n",
       "      <td>1</td>\n",
       "      <td>...</td>\n",
       "      <td>0</td>\n",
       "      <td>0</td>\n",
       "      <td>0</td>\n",
       "      <td>776</td>\n",
       "      <td>0</td>\n",
       "      <td>56</td>\n",
       "      <td>Couple</td>\n",
       "      <td>0</td>\n",
       "      <td>20</td>\n",
       "      <td>472</td>\n",
       "    </tr>\n",
       "  </tbody>\n",
       "</table>\n",
       "<p>3 rows × 28 columns</p>\n",
       "</div>"
      ],
      "text/plain": [
       "       Education   Income  Recency  MntWines  MntFruits  MntMeatProducts  \\\n",
       "0  Undergraduate  58138.0       58       635         88              546   \n",
       "1  Undergraduate  46344.0       38        11          1                6   \n",
       "2  Undergraduate  71613.0       26       426         49              127   \n",
       "\n",
       "   MntFishProducts  MntSweetProducts  MntGoldProds  NumDealsPurchases  ...  \\\n",
       "0              172                88            88                  3  ...   \n",
       "1                2                 1             6                  2  ...   \n",
       "2              111                21            42                  1  ...   \n",
       "\n",
       "   AcceptedCmp2  Complain  Response  Total_Expenses  Children  Age  \\\n",
       "0             0         0         1            1617         0   64   \n",
       "1             0         0         0              27         2   67   \n",
       "2             0         0         0             776         0   56   \n",
       "\n",
       "   Relationship Status  TotalAcceptedCmp  NumTotalPurchases  Customer_Day  \n",
       "0               Single                 1                 22           971  \n",
       "1               Single                 0                  4           125  \n",
       "2               Couple                 0                 20           472  \n",
       "\n",
       "[3 rows x 28 columns]"
      ]
     },
     "execution_count": 3,
     "metadata": {},
     "output_type": "execute_result"
    }
   ],
   "source": [
    "c_data.head(3)"
   ]
  },
  {
   "cell_type": "code",
   "execution_count": 4,
   "id": "08f8f624",
   "metadata": {},
   "outputs": [
    {
     "data": {
      "text/html": [
       "<div>\n",
       "<style scoped>\n",
       "    .dataframe tbody tr th:only-of-type {\n",
       "        vertical-align: middle;\n",
       "    }\n",
       "\n",
       "    .dataframe tbody tr th {\n",
       "        vertical-align: top;\n",
       "    }\n",
       "\n",
       "    .dataframe thead th {\n",
       "        text-align: right;\n",
       "    }\n",
       "</style>\n",
       "<table border=\"1\" class=\"dataframe\">\n",
       "  <thead>\n",
       "    <tr style=\"text-align: right;\">\n",
       "      <th></th>\n",
       "      <th>Income</th>\n",
       "      <th>Recency</th>\n",
       "      <th>MntWines</th>\n",
       "      <th>MntFruits</th>\n",
       "      <th>MntMeatProducts</th>\n",
       "      <th>MntFishProducts</th>\n",
       "      <th>MntSweetProducts</th>\n",
       "      <th>MntGoldProds</th>\n",
       "      <th>NumDealsPurchases</th>\n",
       "      <th>NumWebPurchases</th>\n",
       "      <th>...</th>\n",
       "      <th>Age</th>\n",
       "      <th>TotalAcceptedCmp</th>\n",
       "      <th>NumTotalPurchases</th>\n",
       "      <th>Customer_Day</th>\n",
       "      <th>Education_Highschool</th>\n",
       "      <th>Education_Master</th>\n",
       "      <th>Education_PhD</th>\n",
       "      <th>Education_Undergraduate</th>\n",
       "      <th>Relationship Status_Couple</th>\n",
       "      <th>Relationship Status_Single</th>\n",
       "    </tr>\n",
       "  </thead>\n",
       "  <tbody>\n",
       "    <tr>\n",
       "      <th>0</th>\n",
       "      <td>0.288513</td>\n",
       "      <td>0.306856</td>\n",
       "      <td>0.983228</td>\n",
       "      <td>1.554170</td>\n",
       "      <td>1.679746</td>\n",
       "      <td>2.461068</td>\n",
       "      <td>1.475396</td>\n",
       "      <td>0.845669</td>\n",
       "      <td>0.348738</td>\n",
       "      <td>1.407639</td>\n",
       "      <td>...</td>\n",
       "      <td>1.016868</td>\n",
       "      <td>0.620456</td>\n",
       "      <td>1.312080</td>\n",
       "      <td>1.975467</td>\n",
       "      <td>0</td>\n",
       "      <td>0</td>\n",
       "      <td>0</td>\n",
       "      <td>1</td>\n",
       "      <td>0</td>\n",
       "      <td>1</td>\n",
       "    </tr>\n",
       "    <tr>\n",
       "      <th>1</th>\n",
       "      <td>-0.262438</td>\n",
       "      <td>-0.383971</td>\n",
       "      <td>-0.871064</td>\n",
       "      <td>-0.636431</td>\n",
       "      <td>-0.713455</td>\n",
       "      <td>-0.650414</td>\n",
       "      <td>-0.631638</td>\n",
       "      <td>-0.729742</td>\n",
       "      <td>-0.168700</td>\n",
       "      <td>-1.110921</td>\n",
       "      <td>...</td>\n",
       "      <td>1.273264</td>\n",
       "      <td>-0.501987</td>\n",
       "      <td>-1.186198</td>\n",
       "      <td>-1.667017</td>\n",
       "      <td>0</td>\n",
       "      <td>0</td>\n",
       "      <td>0</td>\n",
       "      <td>1</td>\n",
       "      <td>0</td>\n",
       "      <td>1</td>\n",
       "    </tr>\n",
       "    <tr>\n",
       "      <th>2</th>\n",
       "      <td>0.917992</td>\n",
       "      <td>-0.798467</td>\n",
       "      <td>0.362159</td>\n",
       "      <td>0.572177</td>\n",
       "      <td>-0.177201</td>\n",
       "      <td>1.344595</td>\n",
       "      <td>-0.147262</td>\n",
       "      <td>-0.038098</td>\n",
       "      <td>-0.686137</td>\n",
       "      <td>1.407639</td>\n",
       "      <td>...</td>\n",
       "      <td>0.333146</td>\n",
       "      <td>-0.501987</td>\n",
       "      <td>1.034493</td>\n",
       "      <td>-0.172996</td>\n",
       "      <td>0</td>\n",
       "      <td>0</td>\n",
       "      <td>0</td>\n",
       "      <td>1</td>\n",
       "      <td>1</td>\n",
       "      <td>0</td>\n",
       "    </tr>\n",
       "    <tr>\n",
       "      <th>3</th>\n",
       "      <td>-1.182621</td>\n",
       "      <td>-0.798467</td>\n",
       "      <td>-0.871064</td>\n",
       "      <td>-0.560893</td>\n",
       "      <td>-0.651409</td>\n",
       "      <td>-0.503991</td>\n",
       "      <td>-0.583200</td>\n",
       "      <td>-0.748954</td>\n",
       "      <td>-0.168700</td>\n",
       "      <td>-0.751127</td>\n",
       "      <td>...</td>\n",
       "      <td>-1.290693</td>\n",
       "      <td>-0.501987</td>\n",
       "      <td>-0.908611</td>\n",
       "      <td>-1.925349</td>\n",
       "      <td>0</td>\n",
       "      <td>0</td>\n",
       "      <td>0</td>\n",
       "      <td>1</td>\n",
       "      <td>1</td>\n",
       "      <td>0</td>\n",
       "    </tr>\n",
       "    <tr>\n",
       "      <th>4</th>\n",
       "      <td>0.295754</td>\n",
       "      <td>1.550344</td>\n",
       "      <td>-0.389661</td>\n",
       "      <td>0.421101</td>\n",
       "      <td>-0.217088</td>\n",
       "      <td>0.154911</td>\n",
       "      <td>-0.001950</td>\n",
       "      <td>-0.556831</td>\n",
       "      <td>1.383614</td>\n",
       "      <td>0.328256</td>\n",
       "      <td>...</td>\n",
       "      <td>-1.034298</td>\n",
       "      <td>-0.501987</td>\n",
       "      <td>0.201734</td>\n",
       "      <td>-0.823131</td>\n",
       "      <td>0</td>\n",
       "      <td>0</td>\n",
       "      <td>1</td>\n",
       "      <td>0</td>\n",
       "      <td>1</td>\n",
       "      <td>0</td>\n",
       "    </tr>\n",
       "  </tbody>\n",
       "</table>\n",
       "<p>5 rows × 32 columns</p>\n",
       "</div>"
      ],
      "text/plain": [
       "     Income   Recency  MntWines  MntFruits  MntMeatProducts  MntFishProducts  \\\n",
       "0  0.288513  0.306856  0.983228   1.554170         1.679746         2.461068   \n",
       "1 -0.262438 -0.383971 -0.871064  -0.636431        -0.713455        -0.650414   \n",
       "2  0.917992 -0.798467  0.362159   0.572177        -0.177201         1.344595   \n",
       "3 -1.182621 -0.798467 -0.871064  -0.560893        -0.651409        -0.503991   \n",
       "4  0.295754  1.550344 -0.389661   0.421101        -0.217088         0.154911   \n",
       "\n",
       "   MntSweetProducts  MntGoldProds  NumDealsPurchases  NumWebPurchases  ...  \\\n",
       "0          1.475396      0.845669           0.348738         1.407639  ...   \n",
       "1         -0.631638     -0.729742          -0.168700        -1.110921  ...   \n",
       "2         -0.147262     -0.038098          -0.686137         1.407639  ...   \n",
       "3         -0.583200     -0.748954          -0.168700        -0.751127  ...   \n",
       "4         -0.001950     -0.556831           1.383614         0.328256  ...   \n",
       "\n",
       "        Age  TotalAcceptedCmp  NumTotalPurchases  Customer_Day  \\\n",
       "0  1.016868          0.620456           1.312080      1.975467   \n",
       "1  1.273264         -0.501987          -1.186198     -1.667017   \n",
       "2  0.333146         -0.501987           1.034493     -0.172996   \n",
       "3 -1.290693         -0.501987          -0.908611     -1.925349   \n",
       "4 -1.034298         -0.501987           0.201734     -0.823131   \n",
       "\n",
       "   Education_Highschool  Education_Master  Education_PhD  \\\n",
       "0                     0                 0              0   \n",
       "1                     0                 0              0   \n",
       "2                     0                 0              0   \n",
       "3                     0                 0              0   \n",
       "4                     0                 0              1   \n",
       "\n",
       "   Education_Undergraduate  Relationship Status_Couple  \\\n",
       "0                        1                           0   \n",
       "1                        1                           0   \n",
       "2                        1                           1   \n",
       "3                        1                           1   \n",
       "4                        0                           1   \n",
       "\n",
       "   Relationship Status_Single  \n",
       "0                           1  \n",
       "1                           1  \n",
       "2                           0  \n",
       "3                           0  \n",
       "4                           0  \n",
       "\n",
       "[5 rows x 32 columns]"
      ]
     },
     "execution_count": 4,
     "metadata": {},
     "output_type": "execute_result"
    }
   ],
   "source": [
    "scaled_c_data.head()"
   ]
  },
  {
   "cell_type": "code",
   "execution_count": 20,
   "id": "f92c520a",
   "metadata": {},
   "outputs": [
    {
     "data": {
      "text/html": [
       "<div>\n",
       "<style scoped>\n",
       "    .dataframe tbody tr th:only-of-type {\n",
       "        vertical-align: middle;\n",
       "    }\n",
       "\n",
       "    .dataframe tbody tr th {\n",
       "        vertical-align: top;\n",
       "    }\n",
       "\n",
       "    .dataframe thead th {\n",
       "        text-align: right;\n",
       "    }\n",
       "</style>\n",
       "<table border=\"1\" class=\"dataframe\">\n",
       "  <thead>\n",
       "    <tr style=\"text-align: right;\">\n",
       "      <th></th>\n",
       "      <th>Income</th>\n",
       "      <th>Recency</th>\n",
       "      <th>MntWines</th>\n",
       "      <th>MntFruits</th>\n",
       "      <th>MntMeatProducts</th>\n",
       "      <th>MntFishProducts</th>\n",
       "      <th>MntSweetProducts</th>\n",
       "      <th>MntGoldProds</th>\n",
       "      <th>NumDealsPurchases</th>\n",
       "      <th>NumWebPurchases</th>\n",
       "      <th>...</th>\n",
       "      <th>Age</th>\n",
       "      <th>TotalAcceptedCmp</th>\n",
       "      <th>NumTotalPurchases</th>\n",
       "      <th>Customer_Day</th>\n",
       "      <th>Education_Highschool</th>\n",
       "      <th>Education_Master</th>\n",
       "      <th>Education_PhD</th>\n",
       "      <th>Education_Undergraduate</th>\n",
       "      <th>Relationship Status_Couple</th>\n",
       "      <th>Relationship Status_Single</th>\n",
       "    </tr>\n",
       "  </thead>\n",
       "  <tbody>\n",
       "    <tr>\n",
       "      <th>count</th>\n",
       "      <td>2.236000e+03</td>\n",
       "      <td>2.236000e+03</td>\n",
       "      <td>2.236000e+03</td>\n",
       "      <td>2.236000e+03</td>\n",
       "      <td>2.236000e+03</td>\n",
       "      <td>2.236000e+03</td>\n",
       "      <td>2.236000e+03</td>\n",
       "      <td>2.236000e+03</td>\n",
       "      <td>2.236000e+03</td>\n",
       "      <td>2.236000e+03</td>\n",
       "      <td>...</td>\n",
       "      <td>2.236000e+03</td>\n",
       "      <td>2.236000e+03</td>\n",
       "      <td>2.236000e+03</td>\n",
       "      <td>2.236000e+03</td>\n",
       "      <td>2236.00000</td>\n",
       "      <td>2236.000000</td>\n",
       "      <td>2236.000000</td>\n",
       "      <td>2236.000000</td>\n",
       "      <td>2236.000000</td>\n",
       "      <td>2236.000000</td>\n",
       "    </tr>\n",
       "    <tr>\n",
       "      <th>mean</th>\n",
       "      <td>2.235776e-16</td>\n",
       "      <td>-6.057567e-17</td>\n",
       "      <td>-2.750731e-17</td>\n",
       "      <td>1.058088e-16</td>\n",
       "      <td>-3.612197e-17</td>\n",
       "      <td>-1.122140e-17</td>\n",
       "      <td>3.426001e-17</td>\n",
       "      <td>1.516874e-17</td>\n",
       "      <td>-7.539685e-17</td>\n",
       "      <td>-3.800875e-17</td>\n",
       "      <td>...</td>\n",
       "      <td>8.699064e-17</td>\n",
       "      <td>1.783010e-16</td>\n",
       "      <td>7.209498e-17</td>\n",
       "      <td>8.123099e-17</td>\n",
       "      <td>0.02415</td>\n",
       "      <td>0.255367</td>\n",
       "      <td>0.216905</td>\n",
       "      <td>0.503578</td>\n",
       "      <td>0.644902</td>\n",
       "      <td>0.355098</td>\n",
       "    </tr>\n",
       "    <tr>\n",
       "      <th>std</th>\n",
       "      <td>1.000224e+00</td>\n",
       "      <td>1.000224e+00</td>\n",
       "      <td>1.000224e+00</td>\n",
       "      <td>1.000224e+00</td>\n",
       "      <td>1.000224e+00</td>\n",
       "      <td>1.000224e+00</td>\n",
       "      <td>1.000224e+00</td>\n",
       "      <td>1.000224e+00</td>\n",
       "      <td>1.000224e+00</td>\n",
       "      <td>1.000224e+00</td>\n",
       "      <td>...</td>\n",
       "      <td>1.000224e+00</td>\n",
       "      <td>1.000224e+00</td>\n",
       "      <td>1.000224e+00</td>\n",
       "      <td>1.000224e+00</td>\n",
       "      <td>0.15355</td>\n",
       "      <td>0.436165</td>\n",
       "      <td>0.412230</td>\n",
       "      <td>0.500099</td>\n",
       "      <td>0.478650</td>\n",
       "      <td>0.478650</td>\n",
       "    </tr>\n",
       "    <tr>\n",
       "      <th>min</th>\n",
       "      <td>-2.346560e+00</td>\n",
       "      <td>-1.696543e+00</td>\n",
       "      <td>-9.037519e-01</td>\n",
       "      <td>-6.616104e-01</td>\n",
       "      <td>-7.400464e-01</td>\n",
       "      <td>-6.870194e-01</td>\n",
       "      <td>-6.558568e-01</td>\n",
       "      <td>-8.450157e-01</td>\n",
       "      <td>-1.203575e+00</td>\n",
       "      <td>-1.470716e+00</td>\n",
       "      <td>...</td>\n",
       "      <td>-2.316276e+00</td>\n",
       "      <td>-5.019873e-01</td>\n",
       "      <td>-1.741370e+00</td>\n",
       "      <td>-2.205209e+00</td>\n",
       "      <td>0.00000</td>\n",
       "      <td>0.000000</td>\n",
       "      <td>0.000000</td>\n",
       "      <td>0.000000</td>\n",
       "      <td>0.000000</td>\n",
       "      <td>0.000000</td>\n",
       "    </tr>\n",
       "    <tr>\n",
       "      <th>25%</th>\n",
       "      <td>-7.688934e-01</td>\n",
       "      <td>-8.675502e-01</td>\n",
       "      <td>-8.324330e-01</td>\n",
       "      <td>-6.364311e-01</td>\n",
       "      <td>-6.691367e-01</td>\n",
       "      <td>-6.321109e-01</td>\n",
       "      <td>-6.316380e-01</td>\n",
       "      <td>-6.721048e-01</td>\n",
       "      <td>-6.861374e-01</td>\n",
       "      <td>-7.511269e-01</td>\n",
       "      <td>...</td>\n",
       "      <td>-6.924366e-01</td>\n",
       "      <td>-5.019873e-01</td>\n",
       "      <td>-9.086112e-01</td>\n",
       "      <td>-7.380971e-01</td>\n",
       "      <td>0.00000</td>\n",
       "      <td>0.000000</td>\n",
       "      <td>0.000000</td>\n",
       "      <td>0.000000</td>\n",
       "      <td>0.000000</td>\n",
       "      <td>0.000000</td>\n",
       "    </tr>\n",
       "    <tr>\n",
       "      <th>50%</th>\n",
       "      <td>-1.298227e-02</td>\n",
       "      <td>-4.016436e-03</td>\n",
       "      <td>-3.866896e-01</td>\n",
       "      <td>-4.601758e-01</td>\n",
       "      <td>-4.431121e-01</td>\n",
       "      <td>-4.673854e-01</td>\n",
       "      <td>-4.621065e-01</td>\n",
       "      <td>-3.839200e-01</td>\n",
       "      <td>-1.686996e-01</td>\n",
       "      <td>-3.153832e-02</td>\n",
       "      <td>...</td>\n",
       "      <td>-9.417994e-02</td>\n",
       "      <td>-5.019873e-01</td>\n",
       "      <td>-7.585209e-02</td>\n",
       "      <td>3.531464e-03</td>\n",
       "      <td>0.00000</td>\n",
       "      <td>0.000000</td>\n",
       "      <td>0.000000</td>\n",
       "      <td>1.000000</td>\n",
       "      <td>1.000000</td>\n",
       "      <td>0.000000</td>\n",
       "    </tr>\n",
       "    <tr>\n",
       "      <th>75%</th>\n",
       "      <td>7.620935e-01</td>\n",
       "      <td>8.595173e-01</td>\n",
       "      <td>5.946886e-01</td>\n",
       "      <td>1.693073e-01</td>\n",
       "      <td>2.881439e-01</td>\n",
       "      <td>2.281224e-01</td>\n",
       "      <td>1.433631e-01</td>\n",
       "      <td>2.308744e-01</td>\n",
       "      <td>3.487383e-01</td>\n",
       "      <td>6.880503e-01</td>\n",
       "      <td>...</td>\n",
       "      <td>8.459377e-01</td>\n",
       "      <td>6.204563e-01</td>\n",
       "      <td>7.569070e-01</td>\n",
       "      <td>7.483892e-01</td>\n",
       "      <td>0.00000</td>\n",
       "      <td>1.000000</td>\n",
       "      <td>0.000000</td>\n",
       "      <td>1.000000</td>\n",
       "      <td>1.000000</td>\n",
       "      <td>1.000000</td>\n",
       "    </tr>\n",
       "    <tr>\n",
       "      <th>max</th>\n",
       "      <td>5.158923e+00</td>\n",
       "      <td>1.723051e+00</td>\n",
       "      <td>3.532880e+00</td>\n",
       "      <td>4.349075e+00</td>\n",
       "      <td>6.904903e+00</td>\n",
       "      <td>4.053415e+00</td>\n",
       "      <td>5.713683e+00</td>\n",
       "      <td>6.109845e+00</td>\n",
       "      <td>6.557993e+00</td>\n",
       "      <td>8.243731e+00</td>\n",
       "      <td>...</td>\n",
       "      <td>2.469777e+00</td>\n",
       "      <td>5.110231e+00</td>\n",
       "      <td>2.700011e+00</td>\n",
       "      <td>2.371576e+00</td>\n",
       "      <td>1.00000</td>\n",
       "      <td>1.000000</td>\n",
       "      <td>1.000000</td>\n",
       "      <td>1.000000</td>\n",
       "      <td>1.000000</td>\n",
       "      <td>1.000000</td>\n",
       "    </tr>\n",
       "  </tbody>\n",
       "</table>\n",
       "<p>8 rows × 32 columns</p>\n",
       "</div>"
      ],
      "text/plain": [
       "             Income       Recency      MntWines     MntFruits  \\\n",
       "count  2.236000e+03  2.236000e+03  2.236000e+03  2.236000e+03   \n",
       "mean   2.235776e-16 -6.057567e-17 -2.750731e-17  1.058088e-16   \n",
       "std    1.000224e+00  1.000224e+00  1.000224e+00  1.000224e+00   \n",
       "min   -2.346560e+00 -1.696543e+00 -9.037519e-01 -6.616104e-01   \n",
       "25%   -7.688934e-01 -8.675502e-01 -8.324330e-01 -6.364311e-01   \n",
       "50%   -1.298227e-02 -4.016436e-03 -3.866896e-01 -4.601758e-01   \n",
       "75%    7.620935e-01  8.595173e-01  5.946886e-01  1.693073e-01   \n",
       "max    5.158923e+00  1.723051e+00  3.532880e+00  4.349075e+00   \n",
       "\n",
       "       MntMeatProducts  MntFishProducts  MntSweetProducts  MntGoldProds  \\\n",
       "count     2.236000e+03     2.236000e+03      2.236000e+03  2.236000e+03   \n",
       "mean     -3.612197e-17    -1.122140e-17      3.426001e-17  1.516874e-17   \n",
       "std       1.000224e+00     1.000224e+00      1.000224e+00  1.000224e+00   \n",
       "min      -7.400464e-01    -6.870194e-01     -6.558568e-01 -8.450157e-01   \n",
       "25%      -6.691367e-01    -6.321109e-01     -6.316380e-01 -6.721048e-01   \n",
       "50%      -4.431121e-01    -4.673854e-01     -4.621065e-01 -3.839200e-01   \n",
       "75%       2.881439e-01     2.281224e-01      1.433631e-01  2.308744e-01   \n",
       "max       6.904903e+00     4.053415e+00      5.713683e+00  6.109845e+00   \n",
       "\n",
       "       NumDealsPurchases  NumWebPurchases  ...           Age  \\\n",
       "count       2.236000e+03     2.236000e+03  ...  2.236000e+03   \n",
       "mean       -7.539685e-17    -3.800875e-17  ...  8.699064e-17   \n",
       "std         1.000224e+00     1.000224e+00  ...  1.000224e+00   \n",
       "min        -1.203575e+00    -1.470716e+00  ... -2.316276e+00   \n",
       "25%        -6.861374e-01    -7.511269e-01  ... -6.924366e-01   \n",
       "50%        -1.686996e-01    -3.153832e-02  ... -9.417994e-02   \n",
       "75%         3.487383e-01     6.880503e-01  ...  8.459377e-01   \n",
       "max         6.557993e+00     8.243731e+00  ...  2.469777e+00   \n",
       "\n",
       "       TotalAcceptedCmp  NumTotalPurchases  Customer_Day  \\\n",
       "count      2.236000e+03       2.236000e+03  2.236000e+03   \n",
       "mean       1.783010e-16       7.209498e-17  8.123099e-17   \n",
       "std        1.000224e+00       1.000224e+00  1.000224e+00   \n",
       "min       -5.019873e-01      -1.741370e+00 -2.205209e+00   \n",
       "25%       -5.019873e-01      -9.086112e-01 -7.380971e-01   \n",
       "50%       -5.019873e-01      -7.585209e-02  3.531464e-03   \n",
       "75%        6.204563e-01       7.569070e-01  7.483892e-01   \n",
       "max        5.110231e+00       2.700011e+00  2.371576e+00   \n",
       "\n",
       "       Education_Highschool  Education_Master  Education_PhD  \\\n",
       "count            2236.00000       2236.000000    2236.000000   \n",
       "mean                0.02415          0.255367       0.216905   \n",
       "std                 0.15355          0.436165       0.412230   \n",
       "min                 0.00000          0.000000       0.000000   \n",
       "25%                 0.00000          0.000000       0.000000   \n",
       "50%                 0.00000          0.000000       0.000000   \n",
       "75%                 0.00000          1.000000       0.000000   \n",
       "max                 1.00000          1.000000       1.000000   \n",
       "\n",
       "       Education_Undergraduate  Relationship Status_Couple  \\\n",
       "count              2236.000000                 2236.000000   \n",
       "mean                  0.503578                    0.644902   \n",
       "std                   0.500099                    0.478650   \n",
       "min                   0.000000                    0.000000   \n",
       "25%                   0.000000                    0.000000   \n",
       "50%                   1.000000                    1.000000   \n",
       "75%                   1.000000                    1.000000   \n",
       "max                   1.000000                    1.000000   \n",
       "\n",
       "       Relationship Status_Single  \n",
       "count                 2236.000000  \n",
       "mean                     0.355098  \n",
       "std                      0.478650  \n",
       "min                      0.000000  \n",
       "25%                      0.000000  \n",
       "50%                      0.000000  \n",
       "75%                      1.000000  \n",
       "max                      1.000000  \n",
       "\n",
       "[8 rows x 32 columns]"
      ]
     },
     "execution_count": 20,
     "metadata": {},
     "output_type": "execute_result"
    }
   ],
   "source": [
    "scaled_c_data.describe()"
   ]
  },
  {
   "cell_type": "code",
   "execution_count": 5,
   "id": "e2204185",
   "metadata": {},
   "outputs": [],
   "source": [
    "X = scaled_c_data.values"
   ]
  },
  {
   "cell_type": "markdown",
   "id": "2ddaaa8a",
   "metadata": {},
   "source": [
    "### Choosing K: The Elbow Method"
   ]
  },
  {
   "cell_type": "code",
   "execution_count": 19,
   "id": "d906cbbd",
   "metadata": {
    "scrolled": false
   },
   "outputs": [
    {
     "name": "stderr",
     "output_type": "stream",
     "text": [
      "/Users/Atabay/opt/anaconda3/lib/python3.8/site-packages/seaborn/_decorators.py:36: FutureWarning: Pass the following variables as keyword args: x, y. From version 0.12, the only valid positional argument will be `data`, and passing other arguments without an explicit keyword will result in an error or misinterpretation.\n",
      "  warnings.warn(\n"
     ]
    },
    {
     "data": {
      "image/png": "[encoded data removed]",
      "text/plain": [
       "<Figure size 864x576 with 1 Axes>"
      ]
     },
     "metadata": {
      "needs_background": "light"
     },
     "output_type": "display_data"
    }
   ],
   "source": [
    "from sklearn.cluster import KMeans\n",
    "import numpy as np\n",
    "ss = []\n",
    "k_dict = {}\n",
    "k_range = list(range(1,11))\n",
    "for k in k_range:\n",
    "    model = KMeans(n_clusters = k)\n",
    "    cluster = model.fit_predict(X)\n",
    "    center = model.cluster_centers_\n",
    "    ss.append(np.sum((X - center[cluster]) ** 2))\n",
    "    k_dict[str(k)] = cluster\n",
    "plt.figure(figsize= (12,8))\n",
    "_ = sns.lineplot(k_range, ss, marker='o')\n",
    "_ = plt.xlabel(\"Number of Cluster\")\n",
    "_ = plt.ylabel(\"Sum of Squares\")"
   ]
  },
  {
   "cell_type": "markdown",
   "id": "779cb0dd",
   "metadata": {},
   "source": [
    "There is an elbow at 2. Therefore, 2 might be optimal number of clusters."
   ]
  },
  {
   "cell_type": "markdown",
   "id": "5020f544",
   "metadata": {},
   "source": [
    "### Choosing K: The Silhouette Method "
   ]
  },
  {
   "cell_type": "code",
   "execution_count": 7,
   "id": "718fcc83",
   "metadata": {
    "scrolled": true
   },
   "outputs": [
    {
     "name": "stdout",
     "output_type": "stream",
     "text": [
      "for 2 number of cluster the silhoutte score is: 0.2749105811167212\n",
      "for 3 number of cluster the silhoutte score is: 0.24626824235897787\n",
      "for 4 number of cluster the silhoutte score is: 0.1847502244348068\n",
      "for 5 number of cluster the silhoutte score is: 0.19037130334575839\n",
      "for 6 number of cluster the silhoutte score is: 0.19144128221991902\n",
      "for 7 number of cluster the silhoutte score is: 0.07648493683148418\n",
      "for 8 number of cluster the silhoutte score is: 0.14310574954199226\n",
      "for 9 number of cluster the silhoutte score is: 0.15823540431892477\n",
      "for 10 number of cluster the silhoutte score is: 0.09710042924587743\n"
     ]
    }
   ],
   "source": [
    "from sklearn.metrics import silhouette_score\n",
    "silhouette = []\n",
    "k_range = list(range(2,11))\n",
    "for n_clusters in k_range:\n",
    "    model = KMeans(n_clusters = n_clusters)\n",
    "    cluster = model.fit_predict(X)\n",
    "    silhouette.append(silhouette_score(X, cluster))\n",
    "    print ('for',n_clusters,'number of cluster the silhoutte score is:', silhouette_score(X,cluster))"
   ]
  },
  {
   "cell_type": "code",
   "execution_count": 42,
   "id": "6ef4267e",
   "metadata": {},
   "outputs": [
    {
     "name": "stdout",
     "output_type": "stream",
     "text": [
      "for 2 number of cluster the silhoutte score is: 0.2611679824605767\n",
      "for 3 number of cluster the silhoutte score is: 0.22594694897124692\n",
      "for 4 number of cluster the silhoutte score is: 0.14593940972964606\n",
      "for 5 number of cluster the silhoutte score is: 0.15443028089454713\n",
      "for 6 number of cluster the silhoutte score is: 0.15458850774511113\n",
      "for 7 number of cluster the silhoutte score is: 0.15330837322323057\n",
      "for 8 number of cluster the silhoutte score is: 0.13345703608435025\n",
      "for 9 number of cluster the silhoutte score is: 0.13746862447243247\n",
      "for 10 number of cluster the silhoutte score is: 0.14129737312037835\n"
     ]
    }
   ],
   "source": [
    "#Looking at silhoutte score of AgglomerativeClustering\n",
    "from sklearn.cluster import AgglomerativeClustering\n",
    "silhouette = []\n",
    "k_range = list(range(2,11))\n",
    "for n_clusters in k_range:\n",
    "    model = AgglomerativeClustering(n_clusters = n_clusters)\n",
    "    cluster = model.fit_predict(X)\n",
    "    silhouette.append(silhouette_score(X, cluster))\n",
    "    print ('for',n_clusters,'number of cluster the silhoutte score is:', silhouette_score(X,cluster))"
   ]
  },
  {
   "cell_type": "code",
   "execution_count": 8,
   "id": "2760f740",
   "metadata": {
    "scrolled": true
   },
   "outputs": [
    {
     "data": {
      "text/plain": [
       "Text(0, 0.5, 'Average Silhouette Score')"
      ]
     },
     "execution_count": 8,
     "metadata": {},
     "output_type": "execute_result"
    },
    {
     "data": {
      "image/png": "[encoded data removed]",
      "text/plain": [
       "<Figure size 432x288 with 1 Axes>"
      ]
     },
     "metadata": {
      "needs_background": "light"
     },
     "output_type": "display_data"
    }
   ],
   "source": [
    "plt.plot(k_range, silhouette)\n",
    "plt.xlabel(\"Clusters\")\n",
    "plt.ylabel(\"Average Silhouette Score\")"
   ]
  },
  {
   "cell_type": "markdown",
   "id": "e4bf60ff",
   "metadata": {},
   "source": [
    "K = 2 has the highest silhouette score"
   ]
  },
  {
   "cell_type": "markdown",
   "id": "44d6955c",
   "metadata": {},
   "source": [
    "### 4.1 Visualizing Clusters using PCA"
   ]
  },
  {
   "cell_type": "markdown",
   "id": "93985d12",
   "metadata": {},
   "source": [
    "We have 32 features. We can use dimensionality reduction to plot our clusters on the coordinate plane. "
   ]
  },
  {
   "cell_type": "code",
   "execution_count": 9,
   "id": "e75866d3",
   "metadata": {},
   "outputs": [
    {
     "data": {
      "image/png": "[encoded data removed]",
      "text/plain": [
       "<Figure size 432x288 with 1 Axes>"
      ]
     },
     "metadata": {
      "needs_background": "light"
     },
     "output_type": "display_data"
    }
   ],
   "source": [
    "from sklearn.decomposition import PCA\n",
    "\n",
    "# Calculating the top two PCA features. \n",
    "pca = PCA(n_components=2)\n",
    "pca_features = pca.fit_transform(X)\n",
    "x = pca_features[:,0]\n",
    "y = pca_features[:,1]\n",
    "\n",
    "K=2\n",
    "\n",
    "kmeans = KMeans(n_clusters=K, random_state=10)\n",
    "cl_labels = kmeans.fit_predict(X)\n",
    "df_pca_features = pd.DataFrame({'cluster_id': cl_labels, \n",
    "                                'pc_1':x, \n",
    "                                'pc_2':y})\n",
    "ax = sns.scatterplot(x='pc_1', y='pc_2', \n",
    "                hue='cluster_id', \n",
    "                size='cluster_id', \n",
    "                data=df_pca_features, \n",
    "                legend='full')\n",
    "\n",
    "ax.set_xlabel('PCA Feature 1')\n",
    "ax.set_ylabel('PCA Feature 2')\n",
    "ax.set_title('PCA results of KMeans with ' + str(K) + ' clusters');"
   ]
  },
  {
   "cell_type": "markdown",
   "id": "5e61eff0",
   "metadata": {},
   "source": [
    "There is some overlap in clusters but mostly they are separate easy to identify "
   ]
  },
  {
   "cell_type": "markdown",
   "id": "f69c1f73",
   "metadata": {},
   "source": [
    "### Insights and Patterns from Data"
   ]
  },
  {
   "cell_type": "code",
   "execution_count": 10,
   "id": "636bee56",
   "metadata": {},
   "outputs": [],
   "source": [
    "#Adding clusters to our data\n",
    "c_data[\"Clusters\"] = cl_labels"
   ]
  },
  {
   "cell_type": "code",
   "execution_count": 11,
   "id": "42166b95",
   "metadata": {},
   "outputs": [
    {
     "data": {
      "image/png": "[encoded data removed]",
      "text/plain": [
       "<Figure size 432x288 with 1 Axes>"
      ]
     },
     "metadata": {
      "needs_background": "light"
     },
     "output_type": "display_data"
    }
   ],
   "source": [
    "pl = sns.countplot(x=c_data[\"Clusters\"])\n",
    "pl.set_title(\"Distribution Of The Clusters\")\n",
    "plt.show()"
   ]
  },
  {
   "cell_type": "markdown",
   "id": "ebb64f59",
   "metadata": {},
   "source": [
    "It would be better to have clusters that are closer in count, but the difference is not too much so it should not be a problem."
   ]
  },
  {
   "cell_type": "code",
   "execution_count": 52,
   "id": "1067e97b",
   "metadata": {
    "scrolled": false
   },
   "outputs": [
    {
     "data": {
      "image/png": "[encoded data removed]",
      "text/plain": [
       "<Figure size 504x432 with 1 Axes>"
      ]
     },
     "metadata": {
      "needs_background": "light"
     },
     "output_type": "display_data"
    }
   ],
   "source": [
    "fig, ax = plt.subplots(figsize=(7, 6))\n",
    "sns.boxenplot(x=c_data[\"Clusters\"], y=c_data[\"Income\"],hue=c_data[\"Clusters\"])\n",
    "plt.title(\"Clusters vs Income\")\n",
    "plt.legend()\n",
    "plt.show()"
   ]
  },
  {
   "cell_type": "markdown",
   "id": "53b2e79f",
   "metadata": {},
   "source": [
    "Cluster 0 has higher income than cluster 1"
   ]
  },
  {
   "cell_type": "code",
   "execution_count": 53,
   "id": "0fa2f5f4",
   "metadata": {
    "scrolled": false
   },
   "outputs": [
    {
     "data": {
      "image/png": "[encoded data removed]",
      "text/plain": [
       "<Figure size 504x432 with 1 Axes>"
      ]
     },
     "metadata": {
      "needs_background": "light"
     },
     "output_type": "display_data"
    }
   ],
   "source": [
    "fig, ax = plt.subplots(figsize=(7, 6))\n",
    "sns.boxenplot(x=c_data[\"Clusters\"], y=c_data[\"Total_Expenses\"],hue=c_data[\"Clusters\"])\n",
    "plt.title(\"Clusters vs Expense\")\n",
    "plt.legend()\n",
    "plt.show()"
   ]
  },
  {
   "cell_type": "markdown",
   "id": "9b40532c",
   "metadata": {},
   "source": [
    "Cluster 0 has significantly higher total expense than cluster 1"
   ]
  },
  {
   "cell_type": "code",
   "execution_count": 49,
   "id": "d526a824",
   "metadata": {
    "scrolled": true
   },
   "outputs": [
    {
     "data": {
      "image/png": "[encoded data removed]",
      "text/plain": [
       "<Figure size 504x432 with 1 Axes>"
      ]
     },
     "metadata": {
      "needs_background": "light"
     },
     "output_type": "display_data"
    }
   ],
   "source": [
    "fig, ax = plt.subplots(figsize=(7, 6))\n",
    "sns.countplot(x=c_data[\"TotalAcceptedCmp\"],hue=c_data[\"Clusters\"])\n",
    "plt.title(\"Clusters vs Marketing Campaigns\")\n",
    "plt.legend()\n",
    "plt.show()"
   ]
  },
  {
   "cell_type": "markdown",
   "id": "438ba27e",
   "metadata": {},
   "source": [
    "Both clusters don't have a high marketing campaign acceptance rate but Cluster 0 more responsive to the campaigns than cluster 1.  "
   ]
  },
  {
   "cell_type": "code",
   "execution_count": 86,
   "id": "0bca12cb",
   "metadata": {
    "scrolled": true
   },
   "outputs": [
    {
     "data": {
      "image/png": "[encoded data removed]",
      "text/plain": [
       "<Figure size 504x432 with 1 Axes>"
      ]
     },
     "metadata": {
      "needs_background": "light"
     },
     "output_type": "display_data"
    }
   ],
   "source": [
    "fig, ax = plt.subplots(figsize=(7, 6))\n",
    "sns.countplot(x=c_data[\"NumTotalPurchases\"],hue=c_data[\"Clusters\"])\n",
    "plt.title(\"Clusters vs Total Product Purchase\")\n",
    "plt.legend()\n",
    "plt.show()"
   ]
  },
  {
   "cell_type": "markdown",
   "id": "b85a5d06",
   "metadata": {},
   "source": [
    "Cluster 0 has more total product purchase than cluster 1"
   ]
  },
  {
   "cell_type": "code",
   "execution_count": 72,
   "id": "a5dc0952",
   "metadata": {
    "scrolled": true
   },
   "outputs": [
    {
     "data": {
      "image/png": "[encoded data removed]",
      "text/plain": [
       "<Figure size 504x432 with 1 Axes>"
      ]
     },
     "metadata": {
      "needs_background": "light"
     },
     "output_type": "display_data"
    }
   ],
   "source": [
    "fig, ax = plt.subplots(figsize=(7, 6))\n",
    "sns.countplot(x=c_data[\"Education\"], hue=c_data[\"Clusters\"])\n",
    "plt.title(\"Clusters vs Education\")\n",
    "plt.legend()\n",
    "plt.show()"
   ]
  },
  {
   "cell_type": "markdown",
   "id": "e4621525",
   "metadata": {},
   "source": [
    "Cluster 0 is slightly more educated than cluster 1 "
   ]
  },
  {
   "cell_type": "code",
   "execution_count": 98,
   "id": "d6948b7f",
   "metadata": {
    "scrolled": false
   },
   "outputs": [
    {
     "data": {
      "image/png": "[encoded data removed]",
      "text/plain": [
       "<Figure size 504x432 with 1 Axes>"
      ]
     },
     "metadata": {
      "needs_background": "light"
     },
     "output_type": "display_data"
    }
   ],
   "source": [
    "plt.figure(figsize=(7, 6))\n",
    "sns.barplot(x=c_data[\"Clusters\"], y=c_data[\"NumDealsPurchases\"], hue=c_data[\"Clusters\"])\n",
    "plt.title(\"Clusters vs Deal Purchases\")\n",
    "plt.show()"
   ]
  },
  {
   "cell_type": "markdown",
   "id": "a7e92f03",
   "metadata": {},
   "source": [
    "Cluster 1 made more purchases using discounts "
   ]
  },
  {
   "cell_type": "code",
   "execution_count": 100,
   "id": "d69fcc9a",
   "metadata": {
    "scrolled": false
   },
   "outputs": [
    {
     "data": {
      "image/png": "[encoded data removed]",
      "text/plain": [
       "<Figure size 504x432 with 1 Axes>"
      ]
     },
     "metadata": {
      "needs_background": "light"
     },
     "output_type": "display_data"
    }
   ],
   "source": [
    "plt.figure(figsize=(7, 6))\n",
    "sns.barplot(x=c_data[\"Clusters\"], y=c_data[\"Children\"], hue=c_data[\"Clusters\"])\n",
    "plt.title(\"Clusters vs Number of Children\")\n",
    "plt.show()"
   ]
  },
  {
   "cell_type": "markdown",
   "id": "ab48179c",
   "metadata": {},
   "source": [
    "Cluster 1 has more children than cluster 0"
   ]
  },
  {
   "cell_type": "code",
   "execution_count": 92,
   "id": "1f8f3469",
   "metadata": {},
   "outputs": [
    {
     "data": {
      "text/plain": [
       "Index(['Education', 'Income', 'Recency', 'MntWines', 'MntFruits',\n",
       "       'MntMeatProducts', 'MntFishProducts', 'MntSweetProducts',\n",
       "       'MntGoldProds', 'NumDealsPurchases', 'NumWebPurchases',\n",
       "       'NumCatalogPurchases', 'NumStorePurchases', 'NumWebVisitsMonth',\n",
       "       'AcceptedCmp3', 'AcceptedCmp4', 'AcceptedCmp5', 'AcceptedCmp1',\n",
       "       'AcceptedCmp2', 'Complain', 'Response', 'Total_Expenses', 'Children',\n",
       "       'Age', 'Relationship Status', 'TotalAcceptedCmp', 'NumTotalPurchases',\n",
       "       'Customer_Day', 'Clusters'],\n",
       "      dtype='object')"
      ]
     },
     "execution_count": 92,
     "metadata": {},
     "output_type": "execute_result"
    }
   ],
   "source": [
    "c_data.columns"
   ]
  },
  {
   "cell_type": "code",
   "execution_count": 95,
   "id": "fdb69bc4",
   "metadata": {
    "scrolled": true
   },
   "outputs": [
    {
     "data": {
      "image/png": "[encoded data removed]",
      "text/plain": [
       "<Figure size 504x432 with 1 Axes>"
      ]
     },
     "metadata": {
      "needs_background": "light"
     },
     "output_type": "display_data"
    }
   ],
   "source": [
    "fig, ax = plt.subplots(figsize=(7, 6))\n",
    "sns.countplot(x=c_data[\"Relationship Status\"], hue=c_data[\"Clusters\"])\n",
    "plt.title(\"Clusters vs Education\")\n",
    "plt.legend()\n",
    "plt.show()"
   ]
  },
  {
   "cell_type": "markdown",
   "id": "8ec09130",
   "metadata": {},
   "source": [
    "Both clusters have a similar relationship pattern\n"
   ]
  },
  {
   "cell_type": "code",
   "execution_count": 102,
   "id": "ea54e8bb",
   "metadata": {
    "scrolled": true
   },
   "outputs": [
    {
     "data": {
      "image/png": "[encoded data removed]",
      "text/plain": [
       "<Figure size 504x432 with 1 Axes>"
      ]
     },
     "metadata": {
      "needs_background": "light"
     },
     "output_type": "display_data"
    }
   ],
   "source": [
    "fig, ax = plt.subplots(figsize=(7, 6))\n",
    "sns.boxenplot(x=c_data[\"Clusters\"], y=c_data[\"Age\"],hue=c_data[\"Clusters\"])\n",
    "plt.title(\"Clusters vs Age\")\n",
    "plt.legend()\n",
    "plt.show()"
   ]
  },
  {
   "cell_type": "markdown",
   "id": "50e9e6ac",
   "metadata": {},
   "source": [
    "Median age for cluster 0 is higher than cluster 1"
   ]
  },
  {
   "cell_type": "markdown",
   "id": "c1ccf0f9",
   "metadata": {},
   "source": [
    "### Results\n",
    "\n",
    "#### Cluster 0:\n",
    "- High socioeconomic status\n",
    "- Very high total expenditure\n",
    "- Modarate marketing campaign accaptance rate\n",
    "- Less discount purchases\n",
    "- Slightly more educated\n",
    "- Older population\n",
    "\n",
    "#### Cluster 1:\n",
    "- Lower socioeconomic status\n",
    "- Significantly lower total expenditure\n",
    "- Low marketing campaign accaptance rate\n",
    "- More discount purchases\n",
    "- Slightly less educated\n",
    "- Younger population"
   ]
  }
 ],
 "metadata": {
  "kernelspec": {
   "display_name": "Python 3",
   "language": "python",
   "name": "python3"
  },
  "language_info": {
   "codemirror_mode": {
    "name": "ipython",
    "version": 3
   },
   "file_extension": ".py",
   "mimetype": "text/x-python",
   "name": "python",
   "nbconvert_exporter": "python",
   "pygments_lexer": "ipython3",
   "version": "3.8.8"
  }
 },
 "nbformat": 4,
 "nbformat_minor": 5
}

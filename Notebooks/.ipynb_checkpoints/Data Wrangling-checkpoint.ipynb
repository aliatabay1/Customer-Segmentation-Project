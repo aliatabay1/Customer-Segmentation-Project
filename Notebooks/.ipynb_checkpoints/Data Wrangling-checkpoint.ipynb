{
 "cells": [
  {
   "cell_type": "markdown",
   "id": "7156f3c5",
   "metadata": {},
   "source": [
    "# Loading Customer Data"
   ]
  },
  {
   "cell_type": "code",
   "execution_count": 1,
   "id": "8f3fb860",
   "metadata": {},
   "outputs": [],
   "source": [
    "# Importing relevant libraries\n",
    "import pandas as pd\n",
    "import matplotlib.pyplot as plt\n",
    "import seaborn as sns\n",
    "import os"
   ]
  },
  {
   "cell_type": "code",
   "execution_count": 2,
   "id": "89a90df4",
   "metadata": {},
   "outputs": [],
   "source": [
    "#Loading Dataset\n",
    "c_data = pd.read_csv('../Raw_data/marketing_campaign.csv', sep=\"\\t\")"
   ]
  },
  {
   "cell_type": "code",
   "execution_count": 3,
   "id": "8e655e6e",
   "metadata": {},
   "outputs": [
    {
     "data": {
      "text/html": [
       "<div>\n",
       "<style scoped>\n",
       "    .dataframe tbody tr th:only-of-type {\n",
       "        vertical-align: middle;\n",
       "    }\n",
       "\n",
       "    .dataframe tbody tr th {\n",
       "        vertical-align: top;\n",
       "    }\n",
       "\n",
       "    .dataframe thead th {\n",
       "        text-align: right;\n",
       "    }\n",
       "</style>\n",
       "<table border=\"1\" class=\"dataframe\">\n",
       "  <thead>\n",
       "    <tr style=\"text-align: right;\">\n",
       "      <th></th>\n",
       "      <th>ID</th>\n",
       "      <th>Year_Birth</th>\n",
       "      <th>Education</th>\n",
       "      <th>Marital_Status</th>\n",
       "      <th>Income</th>\n",
       "      <th>Kidhome</th>\n",
       "      <th>Teenhome</th>\n",
       "      <th>Dt_Customer</th>\n",
       "      <th>Recency</th>\n",
       "      <th>MntWines</th>\n",
       "      <th>...</th>\n",
       "      <th>NumWebVisitsMonth</th>\n",
       "      <th>AcceptedCmp3</th>\n",
       "      <th>AcceptedCmp4</th>\n",
       "      <th>AcceptedCmp5</th>\n",
       "      <th>AcceptedCmp1</th>\n",
       "      <th>AcceptedCmp2</th>\n",
       "      <th>Complain</th>\n",
       "      <th>Z_CostContact</th>\n",
       "      <th>Z_Revenue</th>\n",
       "      <th>Response</th>\n",
       "    </tr>\n",
       "  </thead>\n",
       "  <tbody>\n",
       "    <tr>\n",
       "      <th>0</th>\n",
       "      <td>5524</td>\n",
       "      <td>1957</td>\n",
       "      <td>Graduation</td>\n",
       "      <td>Single</td>\n",
       "      <td>58138.0</td>\n",
       "      <td>0</td>\n",
       "      <td>0</td>\n",
       "      <td>04-09-2012</td>\n",
       "      <td>58</td>\n",
       "      <td>635</td>\n",
       "      <td>...</td>\n",
       "      <td>7</td>\n",
       "      <td>0</td>\n",
       "      <td>0</td>\n",
       "      <td>0</td>\n",
       "      <td>0</td>\n",
       "      <td>0</td>\n",
       "      <td>0</td>\n",
       "      <td>3</td>\n",
       "      <td>11</td>\n",
       "      <td>1</td>\n",
       "    </tr>\n",
       "    <tr>\n",
       "      <th>1</th>\n",
       "      <td>2174</td>\n",
       "      <td>1954</td>\n",
       "      <td>Graduation</td>\n",
       "      <td>Single</td>\n",
       "      <td>46344.0</td>\n",
       "      <td>1</td>\n",
       "      <td>1</td>\n",
       "      <td>08-03-2014</td>\n",
       "      <td>38</td>\n",
       "      <td>11</td>\n",
       "      <td>...</td>\n",
       "      <td>5</td>\n",
       "      <td>0</td>\n",
       "      <td>0</td>\n",
       "      <td>0</td>\n",
       "      <td>0</td>\n",
       "      <td>0</td>\n",
       "      <td>0</td>\n",
       "      <td>3</td>\n",
       "      <td>11</td>\n",
       "      <td>0</td>\n",
       "    </tr>\n",
       "    <tr>\n",
       "      <th>2</th>\n",
       "      <td>4141</td>\n",
       "      <td>1965</td>\n",
       "      <td>Graduation</td>\n",
       "      <td>Together</td>\n",
       "      <td>71613.0</td>\n",
       "      <td>0</td>\n",
       "      <td>0</td>\n",
       "      <td>21-08-2013</td>\n",
       "      <td>26</td>\n",
       "      <td>426</td>\n",
       "      <td>...</td>\n",
       "      <td>4</td>\n",
       "      <td>0</td>\n",
       "      <td>0</td>\n",
       "      <td>0</td>\n",
       "      <td>0</td>\n",
       "      <td>0</td>\n",
       "      <td>0</td>\n",
       "      <td>3</td>\n",
       "      <td>11</td>\n",
       "      <td>0</td>\n",
       "    </tr>\n",
       "    <tr>\n",
       "      <th>3</th>\n",
       "      <td>6182</td>\n",
       "      <td>1984</td>\n",
       "      <td>Graduation</td>\n",
       "      <td>Together</td>\n",
       "      <td>26646.0</td>\n",
       "      <td>1</td>\n",
       "      <td>0</td>\n",
       "      <td>10-02-2014</td>\n",
       "      <td>26</td>\n",
       "      <td>11</td>\n",
       "      <td>...</td>\n",
       "      <td>6</td>\n",
       "      <td>0</td>\n",
       "      <td>0</td>\n",
       "      <td>0</td>\n",
       "      <td>0</td>\n",
       "      <td>0</td>\n",
       "      <td>0</td>\n",
       "      <td>3</td>\n",
       "      <td>11</td>\n",
       "      <td>0</td>\n",
       "    </tr>\n",
       "    <tr>\n",
       "      <th>4</th>\n",
       "      <td>5324</td>\n",
       "      <td>1981</td>\n",
       "      <td>PhD</td>\n",
       "      <td>Married</td>\n",
       "      <td>58293.0</td>\n",
       "      <td>1</td>\n",
       "      <td>0</td>\n",
       "      <td>19-01-2014</td>\n",
       "      <td>94</td>\n",
       "      <td>173</td>\n",
       "      <td>...</td>\n",
       "      <td>5</td>\n",
       "      <td>0</td>\n",
       "      <td>0</td>\n",
       "      <td>0</td>\n",
       "      <td>0</td>\n",
       "      <td>0</td>\n",
       "      <td>0</td>\n",
       "      <td>3</td>\n",
       "      <td>11</td>\n",
       "      <td>0</td>\n",
       "    </tr>\n",
       "  </tbody>\n",
       "</table>\n",
       "<p>5 rows × 29 columns</p>\n",
       "</div>"
      ],
      "text/plain": [
       "     ID  Year_Birth   Education Marital_Status   Income  Kidhome  Teenhome  \\\n",
       "0  5524        1957  Graduation         Single  58138.0        0         0   \n",
       "1  2174        1954  Graduation         Single  46344.0        1         1   \n",
       "2  4141        1965  Graduation       Together  71613.0        0         0   \n",
       "3  6182        1984  Graduation       Together  26646.0        1         0   \n",
       "4  5324        1981         PhD        Married  58293.0        1         0   \n",
       "\n",
       "  Dt_Customer  Recency  MntWines  ...  NumWebVisitsMonth  AcceptedCmp3  \\\n",
       "0  04-09-2012       58       635  ...                  7             0   \n",
       "1  08-03-2014       38        11  ...                  5             0   \n",
       "2  21-08-2013       26       426  ...                  4             0   \n",
       "3  10-02-2014       26        11  ...                  6             0   \n",
       "4  19-01-2014       94       173  ...                  5             0   \n",
       "\n",
       "   AcceptedCmp4  AcceptedCmp5  AcceptedCmp1  AcceptedCmp2  Complain  \\\n",
       "0             0             0             0             0         0   \n",
       "1             0             0             0             0         0   \n",
       "2             0             0             0             0         0   \n",
       "3             0             0             0             0         0   \n",
       "4             0             0             0             0         0   \n",
       "\n",
       "   Z_CostContact  Z_Revenue  Response  \n",
       "0              3         11         1  \n",
       "1              3         11         0  \n",
       "2              3         11         0  \n",
       "3              3         11         0  \n",
       "4              3         11         0  \n",
       "\n",
       "[5 rows x 29 columns]"
      ]
     },
     "execution_count": 3,
     "metadata": {},
     "output_type": "execute_result"
    }
   ],
   "source": [
    "c_data.head()"
   ]
  },
  {
   "cell_type": "markdown",
   "id": "17e31e15",
   "metadata": {},
   "source": [
    "# Finding Missing Values "
   ]
  },
  {
   "cell_type": "code",
   "execution_count": 4,
   "id": "f9934467",
   "metadata": {
    "scrolled": true
   },
   "outputs": [
    {
     "name": "stdout",
     "output_type": "stream",
     "text": [
      "<class 'pandas.core.frame.DataFrame'>\n",
      "RangeIndex: 2240 entries, 0 to 2239\n",
      "Data columns (total 29 columns):\n",
      " #   Column               Non-Null Count  Dtype  \n",
      "---  ------               --------------  -----  \n",
      " 0   ID                   2240 non-null   int64  \n",
      " 1   Year_Birth           2240 non-null   int64  \n",
      " 2   Education            2240 non-null   object \n",
      " 3   Marital_Status       2240 non-null   object \n",
      " 4   Income               2216 non-null   float64\n",
      " 5   Kidhome              2240 non-null   int64  \n",
      " 6   Teenhome             2240 non-null   int64  \n",
      " 7   Dt_Customer          2240 non-null   object \n",
      " 8   Recency              2240 non-null   int64  \n",
      " 9   MntWines             2240 non-null   int64  \n",
      " 10  MntFruits            2240 non-null   int64  \n",
      " 11  MntMeatProducts      2240 non-null   int64  \n",
      " 12  MntFishProducts      2240 non-null   int64  \n",
      " 13  MntSweetProducts     2240 non-null   int64  \n",
      " 14  MntGoldProds         2240 non-null   int64  \n",
      " 15  NumDealsPurchases    2240 non-null   int64  \n",
      " 16  NumWebPurchases      2240 non-null   int64  \n",
      " 17  NumCatalogPurchases  2240 non-null   int64  \n",
      " 18  NumStorePurchases    2240 non-null   int64  \n",
      " 19  NumWebVisitsMonth    2240 non-null   int64  \n",
      " 20  AcceptedCmp3         2240 non-null   int64  \n",
      " 21  AcceptedCmp4         2240 non-null   int64  \n",
      " 22  AcceptedCmp5         2240 non-null   int64  \n",
      " 23  AcceptedCmp1         2240 non-null   int64  \n",
      " 24  AcceptedCmp2         2240 non-null   int64  \n",
      " 25  Complain             2240 non-null   int64  \n",
      " 26  Z_CostContact        2240 non-null   int64  \n",
      " 27  Z_Revenue            2240 non-null   int64  \n",
      " 28  Response             2240 non-null   int64  \n",
      "dtypes: float64(1), int64(25), object(3)\n",
      "memory usage: 507.6+ KB\n"
     ]
    }
   ],
   "source": [
    "c_data.info()"
   ]
  },
  {
   "cell_type": "code",
   "execution_count": 5,
   "id": "3e9deeb5",
   "metadata": {
    "scrolled": false
   },
   "outputs": [
    {
     "data": {
      "text/plain": [
       "ID                      0\n",
       "Year_Birth              0\n",
       "Education               0\n",
       "Marital_Status          0\n",
       "Income                 24\n",
       "Kidhome                 0\n",
       "Teenhome                0\n",
       "Dt_Customer             0\n",
       "Recency                 0\n",
       "MntWines                0\n",
       "MntFruits               0\n",
       "MntMeatProducts         0\n",
       "MntFishProducts         0\n",
       "MntSweetProducts        0\n",
       "MntGoldProds            0\n",
       "NumDealsPurchases       0\n",
       "NumWebPurchases         0\n",
       "NumCatalogPurchases     0\n",
       "NumStorePurchases       0\n",
       "NumWebVisitsMonth       0\n",
       "AcceptedCmp3            0\n",
       "AcceptedCmp4            0\n",
       "AcceptedCmp5            0\n",
       "AcceptedCmp1            0\n",
       "AcceptedCmp2            0\n",
       "Complain                0\n",
       "Z_CostContact           0\n",
       "Z_Revenue               0\n",
       "Response                0\n",
       "dtype: int64"
      ]
     },
     "execution_count": 5,
     "metadata": {},
     "output_type": "execute_result"
    }
   ],
   "source": [
    "c_data.isna().sum()"
   ]
  },
  {
   "cell_type": "markdown",
   "id": "b1b74526",
   "metadata": {},
   "source": [
    "- There are 24 null values in income column\n",
    "- DT_Customer should be parsed as datetime not as object"
   ]
  },
  {
   "cell_type": "code",
   "execution_count": 6,
   "id": "aa1ba711",
   "metadata": {},
   "outputs": [
    {
     "data": {
      "text/plain": [
       "10     NaN\n",
       "27     NaN\n",
       "43     NaN\n",
       "48     NaN\n",
       "58     NaN\n",
       "71     NaN\n",
       "90     NaN\n",
       "91     NaN\n",
       "92     NaN\n",
       "128    NaN\n",
       "133    NaN\n",
       "312    NaN\n",
       "319    NaN\n",
       "1379   NaN\n",
       "1382   NaN\n",
       "1383   NaN\n",
       "1386   NaN\n",
       "2059   NaN\n",
       "2061   NaN\n",
       "2078   NaN\n",
       "2079   NaN\n",
       "2081   NaN\n",
       "2084   NaN\n",
       "2228   NaN\n",
       "Name: Income, dtype: float64"
      ]
     },
     "execution_count": 6,
     "metadata": {},
     "output_type": "execute_result"
    }
   ],
   "source": [
    "c_data.loc[pd.isna(c_data['Income']), 'Income']"
   ]
  },
  {
   "cell_type": "markdown",
   "id": "f03207f8",
   "metadata": {},
   "source": [
    "We can fill missing values with Income mean to make our dataset more complete "
   ]
  },
  {
   "cell_type": "code",
   "execution_count": 7,
   "id": "6088f68e",
   "metadata": {},
   "outputs": [
    {
     "data": {
      "text/plain": [
       "(2240, 29)"
      ]
     },
     "execution_count": 7,
     "metadata": {},
     "output_type": "execute_result"
    }
   ],
   "source": [
    "c_data.loc[pd.isna(c_data['Income']), 'Income'] = c_data['Income'].mean() \n",
    "c_data.shape"
   ]
  },
  {
   "cell_type": "code",
   "execution_count": 8,
   "id": "ec419dca",
   "metadata": {},
   "outputs": [
    {
     "data": {
      "text/html": [
       "<div>\n",
       "<style scoped>\n",
       "    .dataframe tbody tr th:only-of-type {\n",
       "        vertical-align: middle;\n",
       "    }\n",
       "\n",
       "    .dataframe tbody tr th {\n",
       "        vertical-align: top;\n",
       "    }\n",
       "\n",
       "    .dataframe thead th {\n",
       "        text-align: right;\n",
       "    }\n",
       "</style>\n",
       "<table border=\"1\" class=\"dataframe\">\n",
       "  <thead>\n",
       "    <tr style=\"text-align: right;\">\n",
       "      <th></th>\n",
       "      <th>ID</th>\n",
       "      <th>Year_Birth</th>\n",
       "      <th>Education</th>\n",
       "      <th>Marital_Status</th>\n",
       "      <th>Income</th>\n",
       "      <th>Kidhome</th>\n",
       "      <th>Teenhome</th>\n",
       "      <th>Dt_Customer</th>\n",
       "      <th>Recency</th>\n",
       "      <th>MntWines</th>\n",
       "      <th>...</th>\n",
       "      <th>NumWebVisitsMonth</th>\n",
       "      <th>AcceptedCmp3</th>\n",
       "      <th>AcceptedCmp4</th>\n",
       "      <th>AcceptedCmp5</th>\n",
       "      <th>AcceptedCmp1</th>\n",
       "      <th>AcceptedCmp2</th>\n",
       "      <th>Complain</th>\n",
       "      <th>Z_CostContact</th>\n",
       "      <th>Z_Revenue</th>\n",
       "      <th>Response</th>\n",
       "    </tr>\n",
       "  </thead>\n",
       "  <tbody>\n",
       "    <tr>\n",
       "      <th>9</th>\n",
       "      <td>5899</td>\n",
       "      <td>1950</td>\n",
       "      <td>PhD</td>\n",
       "      <td>Together</td>\n",
       "      <td>5648.000000</td>\n",
       "      <td>1</td>\n",
       "      <td>1</td>\n",
       "      <td>13-03-2014</td>\n",
       "      <td>68</td>\n",
       "      <td>28</td>\n",
       "      <td>...</td>\n",
       "      <td>20</td>\n",
       "      <td>1</td>\n",
       "      <td>0</td>\n",
       "      <td>0</td>\n",
       "      <td>0</td>\n",
       "      <td>0</td>\n",
       "      <td>0</td>\n",
       "      <td>3</td>\n",
       "      <td>11</td>\n",
       "      <td>0</td>\n",
       "    </tr>\n",
       "    <tr>\n",
       "      <th>10</th>\n",
       "      <td>1994</td>\n",
       "      <td>1983</td>\n",
       "      <td>Graduation</td>\n",
       "      <td>Married</td>\n",
       "      <td>52247.251354</td>\n",
       "      <td>1</td>\n",
       "      <td>0</td>\n",
       "      <td>15-11-2013</td>\n",
       "      <td>11</td>\n",
       "      <td>5</td>\n",
       "      <td>...</td>\n",
       "      <td>7</td>\n",
       "      <td>0</td>\n",
       "      <td>0</td>\n",
       "      <td>0</td>\n",
       "      <td>0</td>\n",
       "      <td>0</td>\n",
       "      <td>0</td>\n",
       "      <td>3</td>\n",
       "      <td>11</td>\n",
       "      <td>0</td>\n",
       "    </tr>\n",
       "  </tbody>\n",
       "</table>\n",
       "<p>2 rows × 29 columns</p>\n",
       "</div>"
      ],
      "text/plain": [
       "      ID  Year_Birth   Education Marital_Status        Income  Kidhome  \\\n",
       "9   5899        1950         PhD       Together   5648.000000        1   \n",
       "10  1994        1983  Graduation        Married  52247.251354        1   \n",
       "\n",
       "    Teenhome Dt_Customer  Recency  MntWines  ...  NumWebVisitsMonth  \\\n",
       "9          1  13-03-2014       68        28  ...                 20   \n",
       "10         0  15-11-2013       11         5  ...                  7   \n",
       "\n",
       "    AcceptedCmp3  AcceptedCmp4  AcceptedCmp5  AcceptedCmp1  AcceptedCmp2  \\\n",
       "9              1             0             0             0             0   \n",
       "10             0             0             0             0             0   \n",
       "\n",
       "    Complain  Z_CostContact  Z_Revenue  Response  \n",
       "9          0              3         11         0  \n",
       "10         0              3         11         0  \n",
       "\n",
       "[2 rows x 29 columns]"
      ]
     },
     "execution_count": 8,
     "metadata": {},
     "output_type": "execute_result"
    }
   ],
   "source": [
    "c_data.iloc[9:11]"
   ]
  },
  {
   "cell_type": "code",
   "execution_count": 9,
   "id": "e3a988d6",
   "metadata": {
    "scrolled": false
   },
   "outputs": [
    {
     "data": {
      "text/plain": [
       "ID                       int64\n",
       "Year_Birth               int64\n",
       "Education               object\n",
       "Marital_Status          object\n",
       "Income                 float64\n",
       "Kidhome                  int64\n",
       "Teenhome                 int64\n",
       "Dt_Customer             object\n",
       "Recency                  int64\n",
       "MntWines                 int64\n",
       "MntFruits                int64\n",
       "MntMeatProducts          int64\n",
       "MntFishProducts          int64\n",
       "MntSweetProducts         int64\n",
       "MntGoldProds             int64\n",
       "NumDealsPurchases        int64\n",
       "NumWebPurchases          int64\n",
       "NumCatalogPurchases      int64\n",
       "NumStorePurchases        int64\n",
       "NumWebVisitsMonth        int64\n",
       "AcceptedCmp3             int64\n",
       "AcceptedCmp4             int64\n",
       "AcceptedCmp5             int64\n",
       "AcceptedCmp1             int64\n",
       "AcceptedCmp2             int64\n",
       "Complain                 int64\n",
       "Z_CostContact            int64\n",
       "Z_Revenue                int64\n",
       "Response                 int64\n",
       "dtype: object"
      ]
     },
     "execution_count": 9,
     "metadata": {},
     "output_type": "execute_result"
    }
   ],
   "source": [
    "c_data.dtypes"
   ]
  },
  {
   "cell_type": "code",
   "execution_count": 10,
   "id": "91e547fb",
   "metadata": {},
   "outputs": [],
   "source": [
    "#Converting DT_Costumer to datetime \n",
    "c_data['Dt_Customer'] = pd.to_datetime(c_data['Dt_Customer'])"
   ]
  },
  {
   "cell_type": "markdown",
   "id": "a51e8fd4",
   "metadata": {},
   "source": [
    "# Finding Duplicate Values"
   ]
  },
  {
   "cell_type": "code",
   "execution_count": 11,
   "id": "4d39c206",
   "metadata": {
    "scrolled": true
   },
   "outputs": [
    {
     "data": {
      "text/html": [
       "<div>\n",
       "<style scoped>\n",
       "    .dataframe tbody tr th:only-of-type {\n",
       "        vertical-align: middle;\n",
       "    }\n",
       "\n",
       "    .dataframe tbody tr th {\n",
       "        vertical-align: top;\n",
       "    }\n",
       "\n",
       "    .dataframe thead th {\n",
       "        text-align: right;\n",
       "    }\n",
       "</style>\n",
       "<table border=\"1\" class=\"dataframe\">\n",
       "  <thead>\n",
       "    <tr style=\"text-align: right;\">\n",
       "      <th></th>\n",
       "      <th>ID</th>\n",
       "      <th>Year_Birth</th>\n",
       "      <th>Education</th>\n",
       "      <th>Marital_Status</th>\n",
       "      <th>Income</th>\n",
       "      <th>Kidhome</th>\n",
       "      <th>Teenhome</th>\n",
       "      <th>Dt_Customer</th>\n",
       "      <th>Recency</th>\n",
       "      <th>MntWines</th>\n",
       "      <th>...</th>\n",
       "      <th>NumWebVisitsMonth</th>\n",
       "      <th>AcceptedCmp3</th>\n",
       "      <th>AcceptedCmp4</th>\n",
       "      <th>AcceptedCmp5</th>\n",
       "      <th>AcceptedCmp1</th>\n",
       "      <th>AcceptedCmp2</th>\n",
       "      <th>Complain</th>\n",
       "      <th>Z_CostContact</th>\n",
       "      <th>Z_Revenue</th>\n",
       "      <th>Response</th>\n",
       "    </tr>\n",
       "  </thead>\n",
       "  <tbody>\n",
       "  </tbody>\n",
       "</table>\n",
       "<p>0 rows × 29 columns</p>\n",
       "</div>"
      ],
      "text/plain": [
       "Empty DataFrame\n",
       "Columns: [ID, Year_Birth, Education, Marital_Status, Income, Kidhome, Teenhome, Dt_Customer, Recency, MntWines, MntFruits, MntMeatProducts, MntFishProducts, MntSweetProducts, MntGoldProds, NumDealsPurchases, NumWebPurchases, NumCatalogPurchases, NumStorePurchases, NumWebVisitsMonth, AcceptedCmp3, AcceptedCmp4, AcceptedCmp5, AcceptedCmp1, AcceptedCmp2, Complain, Z_CostContact, Z_Revenue, Response]\n",
       "Index: []\n",
       "\n",
       "[0 rows x 29 columns]"
      ]
     },
     "execution_count": 11,
     "metadata": {},
     "output_type": "execute_result"
    }
   ],
   "source": [
    "#Finding duplicate rows in dataframe \n",
    "c_data[c_data.duplicated()]"
   ]
  },
  {
   "cell_type": "markdown",
   "id": "6e0c0fd7",
   "metadata": {},
   "source": [
    "There are no duplicate rows in dataset"
   ]
  },
  {
   "cell_type": "markdown",
   "id": "d2e97780",
   "metadata": {},
   "source": [
    "# Adding New Columns"
   ]
  },
  {
   "cell_type": "code",
   "execution_count": 12,
   "id": "b86b6165",
   "metadata": {},
   "outputs": [],
   "source": [
    "#Calculating total expense of household\n",
    "c_data['Total_Expenses'] = c_data['MntWines'] + c_data['MntFruits'] + c_data['MntMeatProducts'] + c_data['MntFishProducts'] + c_data['MntSweetProducts'] + c_data['MntGoldProds']\n"
   ]
  },
  {
   "cell_type": "code",
   "execution_count": 13,
   "id": "a6dbcaf0",
   "metadata": {},
   "outputs": [],
   "source": [
    "#Finding total number of children for househoulds\n",
    "c_data['Children'] = c_data['Kidhome'] + c_data['Teenhome']"
   ]
  },
  {
   "cell_type": "code",
   "execution_count": 14,
   "id": "da06e9b7",
   "metadata": {},
   "outputs": [],
   "source": [
    "c_data[\"Age\"] = 2021 - c_data[\"Year_Birth\"]"
   ]
  },
  {
   "cell_type": "markdown",
   "id": "53261232",
   "metadata": {},
   "source": [
    "# Finding Unique Values "
   ]
  },
  {
   "cell_type": "markdown",
   "id": "28410c67",
   "metadata": {},
   "source": [
    "Finding unique values for categorical columns"
   ]
  },
  {
   "cell_type": "code",
   "execution_count": 15,
   "id": "b1757926",
   "metadata": {
    "scrolled": true
   },
   "outputs": [
    {
     "data": {
      "text/plain": [
       "array(['Graduation', 'PhD', 'Master', 'Basic', '2n Cycle'], dtype=object)"
      ]
     },
     "execution_count": 15,
     "metadata": {},
     "output_type": "execute_result"
    }
   ],
   "source": [
    "pd.unique(c_data['Education'])"
   ]
  },
  {
   "cell_type": "code",
   "execution_count": 16,
   "id": "e802e03c",
   "metadata": {},
   "outputs": [],
   "source": [
    "# Renaming '2n Cycle' as 'Master', 'Graduation' as 'Undergraduate' and 'Basic' as 'Highschool'\n",
    "c_data['Education'] = c_data['Education'].str.replace('2n Cycle', 'Master')\n",
    "c_data['Education'] = c_data['Education'].str.replace('Graduation', 'Undergraduate')\n",
    "c_data['Education'] = c_data['Education'].str.replace('Basic', 'Highschool')"
   ]
  },
  {
   "cell_type": "code",
   "execution_count": 17,
   "id": "e7a2ba38",
   "metadata": {
    "scrolled": true
   },
   "outputs": [
    {
     "data": {
      "text/plain": [
       "array(['Single', 'Together', 'Married', 'Divorced', 'Widow', 'Alone',\n",
       "       'Absurd', 'YOLO'], dtype=object)"
      ]
     },
     "execution_count": 17,
     "metadata": {},
     "output_type": "execute_result"
    }
   ],
   "source": [
    "pd.unique(c_data['Marital_Status'])"
   ]
  },
  {
   "cell_type": "code",
   "execution_count": 18,
   "id": "5a12d8d6",
   "metadata": {},
   "outputs": [],
   "source": [
    "# Adding 'Relationship Status' column and combining Marital Status values as 'Couple' or 'Single'\n",
    "c_data['Relationship Status'] = c_data['Marital_Status']\n",
    "c_data['Relationship Status'] = c_data['Relationship Status'].str.replace('Married', 'Couple')\n",
    "c_data['Relationship Status'] = c_data['Relationship Status'].str.replace('Together', 'Couple')\n",
    "c_data['Relationship Status'] = c_data['Relationship Status'].str.replace('Divorced', 'Single')\n",
    "c_data['Relationship Status'] = c_data['Relationship Status'].str.replace('Widow', 'Single')\n",
    "c_data['Relationship Status'] = c_data['Relationship Status'].str.replace('Absurd', 'Single')\n",
    "c_data['Relationship Status'] = c_data['Relationship Status'].str.replace('Alone', 'Single')\n",
    "c_data['Relationship Status'] = c_data['Relationship Status'].str.replace('YOLO', 'Single')"
   ]
  },
  {
   "cell_type": "markdown",
   "id": "5f32f584",
   "metadata": {},
   "source": [
    "# Dropping Unneccessary Columns"
   ]
  },
  {
   "cell_type": "code",
   "execution_count": 19,
   "id": "e14b4183",
   "metadata": {},
   "outputs": [],
   "source": [
    "c_data = c_data.drop(columns=['Marital_Status', 'Kidhome', 'Teenhome', 'Year_Birth','Z_CostContact', 'Z_Revenue', 'ID'])"
   ]
  },
  {
   "cell_type": "code",
   "execution_count": 20,
   "id": "064f54bc",
   "metadata": {},
   "outputs": [
    {
     "data": {
      "text/plain": [
       "Education                      object\n",
       "Income                        float64\n",
       "Dt_Customer            datetime64[ns]\n",
       "Recency                         int64\n",
       "MntWines                        int64\n",
       "MntFruits                       int64\n",
       "MntMeatProducts                 int64\n",
       "MntFishProducts                 int64\n",
       "MntSweetProducts                int64\n",
       "MntGoldProds                    int64\n",
       "NumDealsPurchases               int64\n",
       "NumWebPurchases                 int64\n",
       "NumCatalogPurchases             int64\n",
       "NumStorePurchases               int64\n",
       "NumWebVisitsMonth               int64\n",
       "AcceptedCmp3                    int64\n",
       "AcceptedCmp4                    int64\n",
       "AcceptedCmp5                    int64\n",
       "AcceptedCmp1                    int64\n",
       "AcceptedCmp2                    int64\n",
       "Complain                        int64\n",
       "Response                        int64\n",
       "Total_Expenses                  int64\n",
       "Children                        int64\n",
       "Age                             int64\n",
       "Relationship Status            object\n",
       "dtype: object"
      ]
     },
     "execution_count": 20,
     "metadata": {},
     "output_type": "execute_result"
    }
   ],
   "source": [
    "c_data.dtypes"
   ]
  },
  {
   "cell_type": "markdown",
   "id": "86ba646c",
   "metadata": {},
   "source": [
    "# Checking Outliers"
   ]
  },
  {
   "cell_type": "code",
   "execution_count": 21,
   "id": "884e9c46",
   "metadata": {
    "scrolled": true
   },
   "outputs": [
    {
     "data": {
      "text/html": [
       "<div>\n",
       "<style scoped>\n",
       "    .dataframe tbody tr th:only-of-type {\n",
       "        vertical-align: middle;\n",
       "    }\n",
       "\n",
       "    .dataframe tbody tr th {\n",
       "        vertical-align: top;\n",
       "    }\n",
       "\n",
       "    .dataframe thead th {\n",
       "        text-align: right;\n",
       "    }\n",
       "</style>\n",
       "<table border=\"1\" class=\"dataframe\">\n",
       "  <thead>\n",
       "    <tr style=\"text-align: right;\">\n",
       "      <th></th>\n",
       "      <th>count</th>\n",
       "      <th>mean</th>\n",
       "      <th>std</th>\n",
       "      <th>min</th>\n",
       "      <th>25%</th>\n",
       "      <th>50%</th>\n",
       "      <th>75%</th>\n",
       "      <th>max</th>\n",
       "    </tr>\n",
       "  </thead>\n",
       "  <tbody>\n",
       "    <tr>\n",
       "      <th>Income</th>\n",
       "      <td>2240.0</td>\n",
       "      <td>52247.251354</td>\n",
       "      <td>25037.797168</td>\n",
       "      <td>1730.0</td>\n",
       "      <td>35538.75</td>\n",
       "      <td>51741.5</td>\n",
       "      <td>68289.75</td>\n",
       "      <td>666666.0</td>\n",
       "    </tr>\n",
       "    <tr>\n",
       "      <th>Recency</th>\n",
       "      <td>2240.0</td>\n",
       "      <td>49.109375</td>\n",
       "      <td>28.962453</td>\n",
       "      <td>0.0</td>\n",
       "      <td>24.00</td>\n",
       "      <td>49.0</td>\n",
       "      <td>74.00</td>\n",
       "      <td>99.0</td>\n",
       "    </tr>\n",
       "    <tr>\n",
       "      <th>MntWines</th>\n",
       "      <td>2240.0</td>\n",
       "      <td>303.935714</td>\n",
       "      <td>336.597393</td>\n",
       "      <td>0.0</td>\n",
       "      <td>23.75</td>\n",
       "      <td>173.5</td>\n",
       "      <td>504.25</td>\n",
       "      <td>1493.0</td>\n",
       "    </tr>\n",
       "    <tr>\n",
       "      <th>MntFruits</th>\n",
       "      <td>2240.0</td>\n",
       "      <td>26.302232</td>\n",
       "      <td>39.773434</td>\n",
       "      <td>0.0</td>\n",
       "      <td>1.00</td>\n",
       "      <td>8.0</td>\n",
       "      <td>33.00</td>\n",
       "      <td>199.0</td>\n",
       "    </tr>\n",
       "    <tr>\n",
       "      <th>MntMeatProducts</th>\n",
       "      <td>2240.0</td>\n",
       "      <td>166.950000</td>\n",
       "      <td>225.715373</td>\n",
       "      <td>0.0</td>\n",
       "      <td>16.00</td>\n",
       "      <td>67.0</td>\n",
       "      <td>232.00</td>\n",
       "      <td>1725.0</td>\n",
       "    </tr>\n",
       "    <tr>\n",
       "      <th>MntFishProducts</th>\n",
       "      <td>2240.0</td>\n",
       "      <td>37.525446</td>\n",
       "      <td>54.628979</td>\n",
       "      <td>0.0</td>\n",
       "      <td>3.00</td>\n",
       "      <td>12.0</td>\n",
       "      <td>50.00</td>\n",
       "      <td>259.0</td>\n",
       "    </tr>\n",
       "    <tr>\n",
       "      <th>MntSweetProducts</th>\n",
       "      <td>2240.0</td>\n",
       "      <td>27.062946</td>\n",
       "      <td>41.280498</td>\n",
       "      <td>0.0</td>\n",
       "      <td>1.00</td>\n",
       "      <td>8.0</td>\n",
       "      <td>33.00</td>\n",
       "      <td>263.0</td>\n",
       "    </tr>\n",
       "    <tr>\n",
       "      <th>MntGoldProds</th>\n",
       "      <td>2240.0</td>\n",
       "      <td>44.021875</td>\n",
       "      <td>52.167439</td>\n",
       "      <td>0.0</td>\n",
       "      <td>9.00</td>\n",
       "      <td>24.0</td>\n",
       "      <td>56.00</td>\n",
       "      <td>362.0</td>\n",
       "    </tr>\n",
       "    <tr>\n",
       "      <th>NumDealsPurchases</th>\n",
       "      <td>2240.0</td>\n",
       "      <td>2.325000</td>\n",
       "      <td>1.932238</td>\n",
       "      <td>0.0</td>\n",
       "      <td>1.00</td>\n",
       "      <td>2.0</td>\n",
       "      <td>3.00</td>\n",
       "      <td>15.0</td>\n",
       "    </tr>\n",
       "    <tr>\n",
       "      <th>NumWebPurchases</th>\n",
       "      <td>2240.0</td>\n",
       "      <td>4.084821</td>\n",
       "      <td>2.778714</td>\n",
       "      <td>0.0</td>\n",
       "      <td>2.00</td>\n",
       "      <td>4.0</td>\n",
       "      <td>6.00</td>\n",
       "      <td>27.0</td>\n",
       "    </tr>\n",
       "    <tr>\n",
       "      <th>NumCatalogPurchases</th>\n",
       "      <td>2240.0</td>\n",
       "      <td>2.662054</td>\n",
       "      <td>2.923101</td>\n",
       "      <td>0.0</td>\n",
       "      <td>0.00</td>\n",
       "      <td>2.0</td>\n",
       "      <td>4.00</td>\n",
       "      <td>28.0</td>\n",
       "    </tr>\n",
       "    <tr>\n",
       "      <th>NumStorePurchases</th>\n",
       "      <td>2240.0</td>\n",
       "      <td>5.790179</td>\n",
       "      <td>3.250958</td>\n",
       "      <td>0.0</td>\n",
       "      <td>3.00</td>\n",
       "      <td>5.0</td>\n",
       "      <td>8.00</td>\n",
       "      <td>13.0</td>\n",
       "    </tr>\n",
       "    <tr>\n",
       "      <th>NumWebVisitsMonth</th>\n",
       "      <td>2240.0</td>\n",
       "      <td>5.316518</td>\n",
       "      <td>2.426645</td>\n",
       "      <td>0.0</td>\n",
       "      <td>3.00</td>\n",
       "      <td>6.0</td>\n",
       "      <td>7.00</td>\n",
       "      <td>20.0</td>\n",
       "    </tr>\n",
       "    <tr>\n",
       "      <th>AcceptedCmp3</th>\n",
       "      <td>2240.0</td>\n",
       "      <td>0.072768</td>\n",
       "      <td>0.259813</td>\n",
       "      <td>0.0</td>\n",
       "      <td>0.00</td>\n",
       "      <td>0.0</td>\n",
       "      <td>0.00</td>\n",
       "      <td>1.0</td>\n",
       "    </tr>\n",
       "    <tr>\n",
       "      <th>AcceptedCmp4</th>\n",
       "      <td>2240.0</td>\n",
       "      <td>0.074554</td>\n",
       "      <td>0.262728</td>\n",
       "      <td>0.0</td>\n",
       "      <td>0.00</td>\n",
       "      <td>0.0</td>\n",
       "      <td>0.00</td>\n",
       "      <td>1.0</td>\n",
       "    </tr>\n",
       "    <tr>\n",
       "      <th>AcceptedCmp5</th>\n",
       "      <td>2240.0</td>\n",
       "      <td>0.072768</td>\n",
       "      <td>0.259813</td>\n",
       "      <td>0.0</td>\n",
       "      <td>0.00</td>\n",
       "      <td>0.0</td>\n",
       "      <td>0.00</td>\n",
       "      <td>1.0</td>\n",
       "    </tr>\n",
       "    <tr>\n",
       "      <th>AcceptedCmp1</th>\n",
       "      <td>2240.0</td>\n",
       "      <td>0.064286</td>\n",
       "      <td>0.245316</td>\n",
       "      <td>0.0</td>\n",
       "      <td>0.00</td>\n",
       "      <td>0.0</td>\n",
       "      <td>0.00</td>\n",
       "      <td>1.0</td>\n",
       "    </tr>\n",
       "    <tr>\n",
       "      <th>AcceptedCmp2</th>\n",
       "      <td>2240.0</td>\n",
       "      <td>0.013393</td>\n",
       "      <td>0.114976</td>\n",
       "      <td>0.0</td>\n",
       "      <td>0.00</td>\n",
       "      <td>0.0</td>\n",
       "      <td>0.00</td>\n",
       "      <td>1.0</td>\n",
       "    </tr>\n",
       "    <tr>\n",
       "      <th>Complain</th>\n",
       "      <td>2240.0</td>\n",
       "      <td>0.009375</td>\n",
       "      <td>0.096391</td>\n",
       "      <td>0.0</td>\n",
       "      <td>0.00</td>\n",
       "      <td>0.0</td>\n",
       "      <td>0.00</td>\n",
       "      <td>1.0</td>\n",
       "    </tr>\n",
       "    <tr>\n",
       "      <th>Response</th>\n",
       "      <td>2240.0</td>\n",
       "      <td>0.149107</td>\n",
       "      <td>0.356274</td>\n",
       "      <td>0.0</td>\n",
       "      <td>0.00</td>\n",
       "      <td>0.0</td>\n",
       "      <td>0.00</td>\n",
       "      <td>1.0</td>\n",
       "    </tr>\n",
       "    <tr>\n",
       "      <th>Total_Expenses</th>\n",
       "      <td>2240.0</td>\n",
       "      <td>605.798214</td>\n",
       "      <td>602.249288</td>\n",
       "      <td>5.0</td>\n",
       "      <td>68.75</td>\n",
       "      <td>396.0</td>\n",
       "      <td>1045.50</td>\n",
       "      <td>2525.0</td>\n",
       "    </tr>\n",
       "    <tr>\n",
       "      <th>Children</th>\n",
       "      <td>2240.0</td>\n",
       "      <td>0.950446</td>\n",
       "      <td>0.751803</td>\n",
       "      <td>0.0</td>\n",
       "      <td>0.00</td>\n",
       "      <td>1.0</td>\n",
       "      <td>1.00</td>\n",
       "      <td>3.0</td>\n",
       "    </tr>\n",
       "    <tr>\n",
       "      <th>Age</th>\n",
       "      <td>2240.0</td>\n",
       "      <td>52.194196</td>\n",
       "      <td>11.984069</td>\n",
       "      <td>25.0</td>\n",
       "      <td>44.00</td>\n",
       "      <td>51.0</td>\n",
       "      <td>62.00</td>\n",
       "      <td>128.0</td>\n",
       "    </tr>\n",
       "  </tbody>\n",
       "</table>\n",
       "</div>"
      ],
      "text/plain": [
       "                      count          mean           std     min       25%  \\\n",
       "Income               2240.0  52247.251354  25037.797168  1730.0  35538.75   \n",
       "Recency              2240.0     49.109375     28.962453     0.0     24.00   \n",
       "MntWines             2240.0    303.935714    336.597393     0.0     23.75   \n",
       "MntFruits            2240.0     26.302232     39.773434     0.0      1.00   \n",
       "MntMeatProducts      2240.0    166.950000    225.715373     0.0     16.00   \n",
       "MntFishProducts      2240.0     37.525446     54.628979     0.0      3.00   \n",
       "MntSweetProducts     2240.0     27.062946     41.280498     0.0      1.00   \n",
       "MntGoldProds         2240.0     44.021875     52.167439     0.0      9.00   \n",
       "NumDealsPurchases    2240.0      2.325000      1.932238     0.0      1.00   \n",
       "NumWebPurchases      2240.0      4.084821      2.778714     0.0      2.00   \n",
       "NumCatalogPurchases  2240.0      2.662054      2.923101     0.0      0.00   \n",
       "NumStorePurchases    2240.0      5.790179      3.250958     0.0      3.00   \n",
       "NumWebVisitsMonth    2240.0      5.316518      2.426645     0.0      3.00   \n",
       "AcceptedCmp3         2240.0      0.072768      0.259813     0.0      0.00   \n",
       "AcceptedCmp4         2240.0      0.074554      0.262728     0.0      0.00   \n",
       "AcceptedCmp5         2240.0      0.072768      0.259813     0.0      0.00   \n",
       "AcceptedCmp1         2240.0      0.064286      0.245316     0.0      0.00   \n",
       "AcceptedCmp2         2240.0      0.013393      0.114976     0.0      0.00   \n",
       "Complain             2240.0      0.009375      0.096391     0.0      0.00   \n",
       "Response             2240.0      0.149107      0.356274     0.0      0.00   \n",
       "Total_Expenses       2240.0    605.798214    602.249288     5.0     68.75   \n",
       "Children             2240.0      0.950446      0.751803     0.0      0.00   \n",
       "Age                  2240.0     52.194196     11.984069    25.0     44.00   \n",
       "\n",
       "                         50%       75%       max  \n",
       "Income               51741.5  68289.75  666666.0  \n",
       "Recency                 49.0     74.00      99.0  \n",
       "MntWines               173.5    504.25    1493.0  \n",
       "MntFruits                8.0     33.00     199.0  \n",
       "MntMeatProducts         67.0    232.00    1725.0  \n",
       "MntFishProducts         12.0     50.00     259.0  \n",
       "MntSweetProducts         8.0     33.00     263.0  \n",
       "MntGoldProds            24.0     56.00     362.0  \n",
       "NumDealsPurchases        2.0      3.00      15.0  \n",
       "NumWebPurchases          4.0      6.00      27.0  \n",
       "NumCatalogPurchases      2.0      4.00      28.0  \n",
       "NumStorePurchases        5.0      8.00      13.0  \n",
       "NumWebVisitsMonth        6.0      7.00      20.0  \n",
       "AcceptedCmp3             0.0      0.00       1.0  \n",
       "AcceptedCmp4             0.0      0.00       1.0  \n",
       "AcceptedCmp5             0.0      0.00       1.0  \n",
       "AcceptedCmp1             0.0      0.00       1.0  \n",
       "AcceptedCmp2             0.0      0.00       1.0  \n",
       "Complain                 0.0      0.00       1.0  \n",
       "Response                 0.0      0.00       1.0  \n",
       "Total_Expenses         396.0   1045.50    2525.0  \n",
       "Children                 1.0      1.00       3.0  \n",
       "Age                     51.0     62.00     128.0  "
      ]
     },
     "execution_count": 21,
     "metadata": {},
     "output_type": "execute_result"
    }
   ],
   "source": [
    "c_data.describe().T"
   ]
  },
  {
   "cell_type": "markdown",
   "id": "b3cb0e02",
   "metadata": {},
   "source": [
    "There is very high difference between mean and max values for Income and Age columns. We need to check them taking standart deviation into consideration"
   ]
  },
  {
   "cell_type": "code",
   "execution_count": 22,
   "id": "3d951d92",
   "metadata": {
    "scrolled": true
   },
   "outputs": [
    {
     "data": {
      "image/png": "[encoded data removed]",
      "text/plain": [
       "<Figure size 1080x720 with 25 Axes>"
      ]
     },
     "metadata": {
      "needs_background": "light"
     },
     "output_type": "display_data"
    }
   ],
   "source": [
    "c_data.hist(figsize=(15,10))\n",
    "plt.subplots_adjust(hspace=0.5);"
   ]
  },
  {
   "cell_type": "markdown",
   "id": "fea45a23",
   "metadata": {},
   "source": [
    "The graphs suggest that Age column has some outliers. However, whether Income has some outlier values is not clear. We need to check this columns closely with boxplot to understand outliers "
   ]
  },
  {
   "cell_type": "code",
   "execution_count": 24,
   "id": "a62bbf02",
   "metadata": {},
   "outputs": [
    {
     "data": {
      "text/plain": [
       "<AxesSubplot:xlabel='Age'>"
      ]
     },
     "execution_count": 24,
     "metadata": {},
     "output_type": "execute_result"
    },
    {
     "data": {
      "image/png": "[encoded data removed]",
      "text/plain": [
       "<Figure size 432x288 with 1 Axes>"
      ]
     },
     "metadata": {
      "needs_background": "light"
     },
     "output_type": "display_data"
    }
   ],
   "source": [
    "sns.boxplot(x = c_data['Age'])"
   ]
  },
  {
   "cell_type": "code",
   "execution_count": 25,
   "id": "bd69136a",
   "metadata": {},
   "outputs": [],
   "source": [
    "#Removing Age outliers\n",
    "c_data = c_data[c_data['Age'] < 100]"
   ]
  },
  {
   "cell_type": "code",
   "execution_count": 26,
   "id": "bbf9d9b0",
   "metadata": {
    "scrolled": true
   },
   "outputs": [
    {
     "data": {
      "text/plain": [
       "<AxesSubplot:xlabel='Income'>"
      ]
     },
     "execution_count": 26,
     "metadata": {},
     "output_type": "execute_result"
    },
    {
     "data": {
      "image/png": "[encoded data removed]",
      "text/plain": [
       "<Figure size 432x288 with 1 Axes>"
      ]
     },
     "metadata": {
      "needs_background": "light"
     },
     "output_type": "display_data"
    }
   ],
   "source": [
    "sns.boxplot(x = c_data['Income'])"
   ]
  },
  {
   "cell_type": "code",
   "execution_count": 27,
   "id": "65703e68",
   "metadata": {},
   "outputs": [],
   "source": [
    "#Removing Income outliers\n",
    "c_data = c_data[c_data['Income'] < 500000]"
   ]
  },
  {
   "cell_type": "code",
   "execution_count": 28,
   "id": "445b96c6",
   "metadata": {},
   "outputs": [
    {
     "data": {
      "text/plain": [
       "(2236, 26)"
      ]
     },
     "execution_count": 28,
     "metadata": {},
     "output_type": "execute_result"
    }
   ],
   "source": [
    "c_data.shape"
   ]
  },
  {
   "cell_type": "code",
   "execution_count": 29,
   "id": "1c651b53",
   "metadata": {
    "scrolled": true
   },
   "outputs": [
    {
     "data": {
      "text/html": [
       "<div>\n",
       "<style scoped>\n",
       "    .dataframe tbody tr th:only-of-type {\n",
       "        vertical-align: middle;\n",
       "    }\n",
       "\n",
       "    .dataframe tbody tr th {\n",
       "        vertical-align: top;\n",
       "    }\n",
       "\n",
       "    .dataframe thead th {\n",
       "        text-align: right;\n",
       "    }\n",
       "</style>\n",
       "<table border=\"1\" class=\"dataframe\">\n",
       "  <thead>\n",
       "    <tr style=\"text-align: right;\">\n",
       "      <th></th>\n",
       "      <th>Education</th>\n",
       "      <th>Income</th>\n",
       "      <th>Dt_Customer</th>\n",
       "      <th>Recency</th>\n",
       "      <th>MntWines</th>\n",
       "      <th>MntFruits</th>\n",
       "      <th>MntMeatProducts</th>\n",
       "      <th>MntFishProducts</th>\n",
       "      <th>MntSweetProducts</th>\n",
       "      <th>MntGoldProds</th>\n",
       "      <th>...</th>\n",
       "      <th>AcceptedCmp4</th>\n",
       "      <th>AcceptedCmp5</th>\n",
       "      <th>AcceptedCmp1</th>\n",
       "      <th>AcceptedCmp2</th>\n",
       "      <th>Complain</th>\n",
       "      <th>Response</th>\n",
       "      <th>Total_Expenses</th>\n",
       "      <th>Children</th>\n",
       "      <th>Age</th>\n",
       "      <th>Relationship Status</th>\n",
       "    </tr>\n",
       "  </thead>\n",
       "  <tbody>\n",
       "    <tr>\n",
       "      <th>0</th>\n",
       "      <td>Undergraduate</td>\n",
       "      <td>58138.0</td>\n",
       "      <td>2012-04-09</td>\n",
       "      <td>58</td>\n",
       "      <td>635</td>\n",
       "      <td>88</td>\n",
       "      <td>546</td>\n",
       "      <td>172</td>\n",
       "      <td>88</td>\n",
       "      <td>88</td>\n",
       "      <td>...</td>\n",
       "      <td>0</td>\n",
       "      <td>0</td>\n",
       "      <td>0</td>\n",
       "      <td>0</td>\n",
       "      <td>0</td>\n",
       "      <td>1</td>\n",
       "      <td>1617</td>\n",
       "      <td>0</td>\n",
       "      <td>64</td>\n",
       "      <td>Single</td>\n",
       "    </tr>\n",
       "    <tr>\n",
       "      <th>1</th>\n",
       "      <td>Undergraduate</td>\n",
       "      <td>46344.0</td>\n",
       "      <td>2014-08-03</td>\n",
       "      <td>38</td>\n",
       "      <td>11</td>\n",
       "      <td>1</td>\n",
       "      <td>6</td>\n",
       "      <td>2</td>\n",
       "      <td>1</td>\n",
       "      <td>6</td>\n",
       "      <td>...</td>\n",
       "      <td>0</td>\n",
       "      <td>0</td>\n",
       "      <td>0</td>\n",
       "      <td>0</td>\n",
       "      <td>0</td>\n",
       "      <td>0</td>\n",
       "      <td>27</td>\n",
       "      <td>2</td>\n",
       "      <td>67</td>\n",
       "      <td>Single</td>\n",
       "    </tr>\n",
       "    <tr>\n",
       "      <th>2</th>\n",
       "      <td>Undergraduate</td>\n",
       "      <td>71613.0</td>\n",
       "      <td>2013-08-21</td>\n",
       "      <td>26</td>\n",
       "      <td>426</td>\n",
       "      <td>49</td>\n",
       "      <td>127</td>\n",
       "      <td>111</td>\n",
       "      <td>21</td>\n",
       "      <td>42</td>\n",
       "      <td>...</td>\n",
       "      <td>0</td>\n",
       "      <td>0</td>\n",
       "      <td>0</td>\n",
       "      <td>0</td>\n",
       "      <td>0</td>\n",
       "      <td>0</td>\n",
       "      <td>776</td>\n",
       "      <td>0</td>\n",
       "      <td>56</td>\n",
       "      <td>Couple</td>\n",
       "    </tr>\n",
       "    <tr>\n",
       "      <th>3</th>\n",
       "      <td>Undergraduate</td>\n",
       "      <td>26646.0</td>\n",
       "      <td>2014-10-02</td>\n",
       "      <td>26</td>\n",
       "      <td>11</td>\n",
       "      <td>4</td>\n",
       "      <td>20</td>\n",
       "      <td>10</td>\n",
       "      <td>3</td>\n",
       "      <td>5</td>\n",
       "      <td>...</td>\n",
       "      <td>0</td>\n",
       "      <td>0</td>\n",
       "      <td>0</td>\n",
       "      <td>0</td>\n",
       "      <td>0</td>\n",
       "      <td>0</td>\n",
       "      <td>53</td>\n",
       "      <td>1</td>\n",
       "      <td>37</td>\n",
       "      <td>Couple</td>\n",
       "    </tr>\n",
       "    <tr>\n",
       "      <th>4</th>\n",
       "      <td>PhD</td>\n",
       "      <td>58293.0</td>\n",
       "      <td>2014-01-19</td>\n",
       "      <td>94</td>\n",
       "      <td>173</td>\n",
       "      <td>43</td>\n",
       "      <td>118</td>\n",
       "      <td>46</td>\n",
       "      <td>27</td>\n",
       "      <td>15</td>\n",
       "      <td>...</td>\n",
       "      <td>0</td>\n",
       "      <td>0</td>\n",
       "      <td>0</td>\n",
       "      <td>0</td>\n",
       "      <td>0</td>\n",
       "      <td>0</td>\n",
       "      <td>422</td>\n",
       "      <td>1</td>\n",
       "      <td>40</td>\n",
       "      <td>Couple</td>\n",
       "    </tr>\n",
       "  </tbody>\n",
       "</table>\n",
       "<p>5 rows × 26 columns</p>\n",
       "</div>"
      ],
      "text/plain": [
       "       Education   Income Dt_Customer  Recency  MntWines  MntFruits  \\\n",
       "0  Undergraduate  58138.0  2012-04-09       58       635         88   \n",
       "1  Undergraduate  46344.0  2014-08-03       38        11          1   \n",
       "2  Undergraduate  71613.0  2013-08-21       26       426         49   \n",
       "3  Undergraduate  26646.0  2014-10-02       26        11          4   \n",
       "4            PhD  58293.0  2014-01-19       94       173         43   \n",
       "\n",
       "   MntMeatProducts  MntFishProducts  MntSweetProducts  MntGoldProds  ...  \\\n",
       "0              546              172                88            88  ...   \n",
       "1                6                2                 1             6  ...   \n",
       "2              127              111                21            42  ...   \n",
       "3               20               10                 3             5  ...   \n",
       "4              118               46                27            15  ...   \n",
       "\n",
       "   AcceptedCmp4  AcceptedCmp5  AcceptedCmp1  AcceptedCmp2  Complain  Response  \\\n",
       "0             0             0             0             0         0         1   \n",
       "1             0             0             0             0         0         0   \n",
       "2             0             0             0             0         0         0   \n",
       "3             0             0             0             0         0         0   \n",
       "4             0             0             0             0         0         0   \n",
       "\n",
       "   Total_Expenses  Children  Age  Relationship Status  \n",
       "0            1617         0   64               Single  \n",
       "1              27         2   67               Single  \n",
       "2             776         0   56               Couple  \n",
       "3              53         1   37               Couple  \n",
       "4             422         1   40               Couple  \n",
       "\n",
       "[5 rows x 26 columns]"
      ]
     },
     "execution_count": 29,
     "metadata": {},
     "output_type": "execute_result"
    }
   ],
   "source": [
    "c_data.head()"
   ]
  },
  {
   "cell_type": "markdown",
   "id": "79385b3e",
   "metadata": {},
   "source": [
    "# Conclusion"
   ]
  },
  {
   "cell_type": "markdown",
   "id": "abe57516",
   "metadata": {},
   "source": [
    "First, I checked if the data has any missing values and found that only Income column has small number of null values. I filled those values with the mean of Income to not lead them to change Income statistics for the data. Then I changed Dt_Customer's data type from object to datetime to make it more convinient for future date related analysis. Also I checked dataset for any duplicate values but no duplicates found. \n",
    "\n",
    "After completing data cleaning, I generated new columns by combining seperated columns into single column as Total_Expenses and Children. Additionally, I generated an Age column using Year_Birth.  "
   ]
  }
 ],
 "metadata": {
  "kernelspec": {
   "display_name": "Python 3",
   "language": "python",
   "name": "python3"
  },
  "language_info": {
   "codemirror_mode": {
    "name": "ipython",
    "version": 3
   },
   "file_extension": ".py",
   "mimetype": "text/x-python",
   "name": "python",
   "nbconvert_exporter": "python",
   "pygments_lexer": "ipython3",
   "version": "3.8.8"
  }
 },
 "nbformat": 4,
 "nbformat_minor": 5
}

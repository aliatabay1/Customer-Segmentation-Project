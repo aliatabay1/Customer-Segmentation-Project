{
 "cells": [
  {
   "cell_type": "markdown",
   "id": "7581b2e4",
   "metadata": {},
   "source": [
    "## 2 Exploratory Data Analysis"
   ]
  },
  {
   "cell_type": "markdown",
   "id": "750173bd",
   "metadata": {},
   "source": [
    "## 2.1 Load the Data"
   ]
  },
  {
   "cell_type": "code",
   "execution_count": 1,
   "id": "52c7446e",
   "metadata": {},
   "outputs": [],
   "source": [
    "import pandas as pd\n",
    "import numpy as np\n",
    "import os\n",
    "import matplotlib.pyplot as plt\n",
    "import seaborn as sns\n",
    "from sklearn.decomposition import PCA\n",
    "from sklearn.preprocessing import scale"
   ]
  },
  {
   "cell_type": "code",
   "execution_count": 2,
   "id": "7444733a",
   "metadata": {},
   "outputs": [],
   "source": [
    "c_data = pd.read_csv('../Data/c_data_cleaned.csv')"
   ]
  },
  {
   "cell_type": "code",
   "execution_count": 3,
   "id": "d048fc04",
   "metadata": {},
   "outputs": [
    {
     "data": {
      "text/html": [
       "<div>\n",
       "<style scoped>\n",
       "    .dataframe tbody tr th:only-of-type {\n",
       "        vertical-align: middle;\n",
       "    }\n",
       "\n",
       "    .dataframe tbody tr th {\n",
       "        vertical-align: top;\n",
       "    }\n",
       "\n",
       "    .dataframe thead th {\n",
       "        text-align: right;\n",
       "    }\n",
       "</style>\n",
       "<table border=\"1\" class=\"dataframe\">\n",
       "  <thead>\n",
       "    <tr style=\"text-align: right;\">\n",
       "      <th></th>\n",
       "      <th>ID</th>\n",
       "      <th>Education</th>\n",
       "      <th>Income</th>\n",
       "      <th>Dt_Customer</th>\n",
       "      <th>Recency</th>\n",
       "      <th>MntWines</th>\n",
       "      <th>MntFruits</th>\n",
       "      <th>MntMeatProducts</th>\n",
       "      <th>MntFishProducts</th>\n",
       "      <th>MntSweetProducts</th>\n",
       "      <th>...</th>\n",
       "      <th>AcceptedCmp1</th>\n",
       "      <th>AcceptedCmp2</th>\n",
       "      <th>Complain</th>\n",
       "      <th>Z_CostContact</th>\n",
       "      <th>Z_Revenue</th>\n",
       "      <th>Response</th>\n",
       "      <th>Total_Expenses</th>\n",
       "      <th>Children</th>\n",
       "      <th>Age</th>\n",
       "      <th>Relationship Status</th>\n",
       "    </tr>\n",
       "  </thead>\n",
       "  <tbody>\n",
       "    <tr>\n",
       "      <th>0</th>\n",
       "      <td>5524</td>\n",
       "      <td>Undergraduate</td>\n",
       "      <td>58138.0</td>\n",
       "      <td>04-09-2012</td>\n",
       "      <td>58</td>\n",
       "      <td>635</td>\n",
       "      <td>88</td>\n",
       "      <td>546</td>\n",
       "      <td>172</td>\n",
       "      <td>88</td>\n",
       "      <td>...</td>\n",
       "      <td>0</td>\n",
       "      <td>0</td>\n",
       "      <td>0</td>\n",
       "      <td>3</td>\n",
       "      <td>11</td>\n",
       "      <td>1</td>\n",
       "      <td>1617</td>\n",
       "      <td>0</td>\n",
       "      <td>64</td>\n",
       "      <td>Single</td>\n",
       "    </tr>\n",
       "    <tr>\n",
       "      <th>1</th>\n",
       "      <td>2174</td>\n",
       "      <td>Undergraduate</td>\n",
       "      <td>46344.0</td>\n",
       "      <td>08-03-2014</td>\n",
       "      <td>38</td>\n",
       "      <td>11</td>\n",
       "      <td>1</td>\n",
       "      <td>6</td>\n",
       "      <td>2</td>\n",
       "      <td>1</td>\n",
       "      <td>...</td>\n",
       "      <td>0</td>\n",
       "      <td>0</td>\n",
       "      <td>0</td>\n",
       "      <td>3</td>\n",
       "      <td>11</td>\n",
       "      <td>0</td>\n",
       "      <td>27</td>\n",
       "      <td>2</td>\n",
       "      <td>67</td>\n",
       "      <td>Single</td>\n",
       "    </tr>\n",
       "    <tr>\n",
       "      <th>2</th>\n",
       "      <td>4141</td>\n",
       "      <td>Undergraduate</td>\n",
       "      <td>71613.0</td>\n",
       "      <td>21-08-2013</td>\n",
       "      <td>26</td>\n",
       "      <td>426</td>\n",
       "      <td>49</td>\n",
       "      <td>127</td>\n",
       "      <td>111</td>\n",
       "      <td>21</td>\n",
       "      <td>...</td>\n",
       "      <td>0</td>\n",
       "      <td>0</td>\n",
       "      <td>0</td>\n",
       "      <td>3</td>\n",
       "      <td>11</td>\n",
       "      <td>0</td>\n",
       "      <td>776</td>\n",
       "      <td>0</td>\n",
       "      <td>56</td>\n",
       "      <td>Couple</td>\n",
       "    </tr>\n",
       "    <tr>\n",
       "      <th>3</th>\n",
       "      <td>6182</td>\n",
       "      <td>Undergraduate</td>\n",
       "      <td>26646.0</td>\n",
       "      <td>10-02-2014</td>\n",
       "      <td>26</td>\n",
       "      <td>11</td>\n",
       "      <td>4</td>\n",
       "      <td>20</td>\n",
       "      <td>10</td>\n",
       "      <td>3</td>\n",
       "      <td>...</td>\n",
       "      <td>0</td>\n",
       "      <td>0</td>\n",
       "      <td>0</td>\n",
       "      <td>3</td>\n",
       "      <td>11</td>\n",
       "      <td>0</td>\n",
       "      <td>53</td>\n",
       "      <td>1</td>\n",
       "      <td>37</td>\n",
       "      <td>Couple</td>\n",
       "    </tr>\n",
       "    <tr>\n",
       "      <th>4</th>\n",
       "      <td>5324</td>\n",
       "      <td>PhD</td>\n",
       "      <td>58293.0</td>\n",
       "      <td>19-01-2014</td>\n",
       "      <td>94</td>\n",
       "      <td>173</td>\n",
       "      <td>43</td>\n",
       "      <td>118</td>\n",
       "      <td>46</td>\n",
       "      <td>27</td>\n",
       "      <td>...</td>\n",
       "      <td>0</td>\n",
       "      <td>0</td>\n",
       "      <td>0</td>\n",
       "      <td>3</td>\n",
       "      <td>11</td>\n",
       "      <td>0</td>\n",
       "      <td>422</td>\n",
       "      <td>1</td>\n",
       "      <td>40</td>\n",
       "      <td>Couple</td>\n",
       "    </tr>\n",
       "  </tbody>\n",
       "</table>\n",
       "<p>5 rows × 29 columns</p>\n",
       "</div>"
      ],
      "text/plain": [
       "     ID      Education   Income Dt_Customer  Recency  MntWines  MntFruits  \\\n",
       "0  5524  Undergraduate  58138.0  04-09-2012       58       635         88   \n",
       "1  2174  Undergraduate  46344.0  08-03-2014       38        11          1   \n",
       "2  4141  Undergraduate  71613.0  21-08-2013       26       426         49   \n",
       "3  6182  Undergraduate  26646.0  10-02-2014       26        11          4   \n",
       "4  5324            PhD  58293.0  19-01-2014       94       173         43   \n",
       "\n",
       "   MntMeatProducts  MntFishProducts  MntSweetProducts  ...  AcceptedCmp1  \\\n",
       "0              546              172                88  ...             0   \n",
       "1                6                2                 1  ...             0   \n",
       "2              127              111                21  ...             0   \n",
       "3               20               10                 3  ...             0   \n",
       "4              118               46                27  ...             0   \n",
       "\n",
       "   AcceptedCmp2  Complain  Z_CostContact  Z_Revenue  Response  Total_Expenses  \\\n",
       "0             0         0              3         11         1            1617   \n",
       "1             0         0              3         11         0              27   \n",
       "2             0         0              3         11         0             776   \n",
       "3             0         0              3         11         0              53   \n",
       "4             0         0              3         11         0             422   \n",
       "\n",
       "   Children  Age  Relationship Status  \n",
       "0         0   64               Single  \n",
       "1         2   67               Single  \n",
       "2         0   56               Couple  \n",
       "3         1   37               Couple  \n",
       "4         1   40               Couple  \n",
       "\n",
       "[5 rows x 29 columns]"
      ]
     },
     "execution_count": 3,
     "metadata": {},
     "output_type": "execute_result"
    }
   ],
   "source": [
    "c_data.head(5)"
   ]
  },
  {
   "cell_type": "markdown",
   "id": "560d3d9b",
   "metadata": {},
   "source": [
    "## 2.2 Dropping Uncessary Columns"
   ]
  },
  {
   "cell_type": "code",
   "execution_count": 4,
   "id": "2d1019e9",
   "metadata": {},
   "outputs": [
    {
     "data": {
      "text/plain": [
       "Index(['ID', 'Education', 'Income', 'Dt_Customer', 'Recency', 'MntWines',\n",
       "       'MntFruits', 'MntMeatProducts', 'MntFishProducts', 'MntSweetProducts',\n",
       "       'MntGoldProds', 'NumDealsPurchases', 'NumWebPurchases',\n",
       "       'NumCatalogPurchases', 'NumStorePurchases', 'NumWebVisitsMonth',\n",
       "       'AcceptedCmp3', 'AcceptedCmp4', 'AcceptedCmp5', 'AcceptedCmp1',\n",
       "       'AcceptedCmp2', 'Complain', 'Z_CostContact', 'Z_Revenue', 'Response',\n",
       "       'Total_Expenses', 'Children', 'Age', 'Relationship Status'],\n",
       "      dtype='object')"
      ]
     },
     "execution_count": 4,
     "metadata": {},
     "output_type": "execute_result"
    }
   ],
   "source": [
    "c_data.columns"
   ]
  },
  {
   "cell_type": "code",
   "execution_count": 5,
   "id": "4dba758d",
   "metadata": {},
   "outputs": [],
   "source": [
    "#'Z_CostContact', 'Z_Revenue' is same for all rows. Also, 'ID' doesn't provide any additional information about our data\n",
    "c_data.drop(['ID', 'Z_CostContact', 'Z_Revenue'], axis=1, inplace=True)"
   ]
  },
  {
   "cell_type": "code",
   "execution_count": 6,
   "id": "2d133a95",
   "metadata": {
    "scrolled": false
   },
   "outputs": [
    {
     "data": {
      "text/html": [
       "<div>\n",
       "<style scoped>\n",
       "    .dataframe tbody tr th:only-of-type {\n",
       "        vertical-align: middle;\n",
       "    }\n",
       "\n",
       "    .dataframe tbody tr th {\n",
       "        vertical-align: top;\n",
       "    }\n",
       "\n",
       "    .dataframe thead th {\n",
       "        text-align: right;\n",
       "    }\n",
       "</style>\n",
       "<table border=\"1\" class=\"dataframe\">\n",
       "  <thead>\n",
       "    <tr style=\"text-align: right;\">\n",
       "      <th></th>\n",
       "      <th>count</th>\n",
       "      <th>mean</th>\n",
       "      <th>std</th>\n",
       "      <th>min</th>\n",
       "      <th>25%</th>\n",
       "      <th>50%</th>\n",
       "      <th>75%</th>\n",
       "      <th>max</th>\n",
       "    </tr>\n",
       "  </thead>\n",
       "  <tbody>\n",
       "    <tr>\n",
       "      <th>Income</th>\n",
       "      <td>2236.0</td>\n",
       "      <td>51961.906544</td>\n",
       "      <td>21411.404811</td>\n",
       "      <td>1730.0</td>\n",
       "      <td>35502.5</td>\n",
       "      <td>51684.0</td>\n",
       "      <td>68275.75</td>\n",
       "      <td>162397.0</td>\n",
       "    </tr>\n",
       "    <tr>\n",
       "      <th>Recency</th>\n",
       "      <td>2236.0</td>\n",
       "      <td>49.116279</td>\n",
       "      <td>28.957284</td>\n",
       "      <td>0.0</td>\n",
       "      <td>24.0</td>\n",
       "      <td>49.0</td>\n",
       "      <td>74.00</td>\n",
       "      <td>99.0</td>\n",
       "    </tr>\n",
       "    <tr>\n",
       "      <th>MntWines</th>\n",
       "      <td>2236.0</td>\n",
       "      <td>304.127460</td>\n",
       "      <td>336.591810</td>\n",
       "      <td>0.0</td>\n",
       "      <td>24.0</td>\n",
       "      <td>174.0</td>\n",
       "      <td>504.25</td>\n",
       "      <td>1493.0</td>\n",
       "    </tr>\n",
       "    <tr>\n",
       "      <th>MntFruits</th>\n",
       "      <td>2236.0</td>\n",
       "      <td>26.275939</td>\n",
       "      <td>39.724007</td>\n",
       "      <td>0.0</td>\n",
       "      <td>1.0</td>\n",
       "      <td>8.0</td>\n",
       "      <td>33.00</td>\n",
       "      <td>199.0</td>\n",
       "    </tr>\n",
       "    <tr>\n",
       "      <th>MntMeatProducts</th>\n",
       "      <td>2236.0</td>\n",
       "      <td>166.983453</td>\n",
       "      <td>225.689645</td>\n",
       "      <td>0.0</td>\n",
       "      <td>16.0</td>\n",
       "      <td>67.0</td>\n",
       "      <td>232.00</td>\n",
       "      <td>1725.0</td>\n",
       "    </tr>\n",
       "    <tr>\n",
       "      <th>MntFishProducts</th>\n",
       "      <td>2236.0</td>\n",
       "      <td>37.536225</td>\n",
       "      <td>54.648562</td>\n",
       "      <td>0.0</td>\n",
       "      <td>3.0</td>\n",
       "      <td>12.0</td>\n",
       "      <td>50.00</td>\n",
       "      <td>259.0</td>\n",
       "    </tr>\n",
       "    <tr>\n",
       "      <th>MntSweetProducts</th>\n",
       "      <td>2236.0</td>\n",
       "      <td>27.080501</td>\n",
       "      <td>41.299504</td>\n",
       "      <td>0.0</td>\n",
       "      <td>1.0</td>\n",
       "      <td>8.0</td>\n",
       "      <td>33.00</td>\n",
       "      <td>263.0</td>\n",
       "    </tr>\n",
       "    <tr>\n",
       "      <th>MntGoldProds</th>\n",
       "      <td>2236.0</td>\n",
       "      <td>43.983005</td>\n",
       "      <td>52.061568</td>\n",
       "      <td>0.0</td>\n",
       "      <td>9.0</td>\n",
       "      <td>24.0</td>\n",
       "      <td>56.00</td>\n",
       "      <td>362.0</td>\n",
       "    </tr>\n",
       "    <tr>\n",
       "      <th>NumDealsPurchases</th>\n",
       "      <td>2236.0</td>\n",
       "      <td>2.326029</td>\n",
       "      <td>1.933032</td>\n",
       "      <td>0.0</td>\n",
       "      <td>1.0</td>\n",
       "      <td>2.0</td>\n",
       "      <td>3.00</td>\n",
       "      <td>15.0</td>\n",
       "    </tr>\n",
       "    <tr>\n",
       "      <th>NumWebPurchases</th>\n",
       "      <td>2236.0</td>\n",
       "      <td>4.087657</td>\n",
       "      <td>2.779988</td>\n",
       "      <td>0.0</td>\n",
       "      <td>2.0</td>\n",
       "      <td>4.0</td>\n",
       "      <td>6.00</td>\n",
       "      <td>27.0</td>\n",
       "    </tr>\n",
       "    <tr>\n",
       "      <th>NumCatalogPurchases</th>\n",
       "      <td>2236.0</td>\n",
       "      <td>2.663238</td>\n",
       "      <td>2.923898</td>\n",
       "      <td>0.0</td>\n",
       "      <td>0.0</td>\n",
       "      <td>2.0</td>\n",
       "      <td>4.00</td>\n",
       "      <td>28.0</td>\n",
       "    </tr>\n",
       "    <tr>\n",
       "      <th>NumStorePurchases</th>\n",
       "      <td>2236.0</td>\n",
       "      <td>5.795617</td>\n",
       "      <td>3.251129</td>\n",
       "      <td>0.0</td>\n",
       "      <td>3.0</td>\n",
       "      <td>5.0</td>\n",
       "      <td>8.00</td>\n",
       "      <td>13.0</td>\n",
       "    </tr>\n",
       "    <tr>\n",
       "      <th>NumWebVisitsMonth</th>\n",
       "      <td>2236.0</td>\n",
       "      <td>5.318873</td>\n",
       "      <td>2.426886</td>\n",
       "      <td>0.0</td>\n",
       "      <td>3.0</td>\n",
       "      <td>6.0</td>\n",
       "      <td>7.00</td>\n",
       "      <td>20.0</td>\n",
       "    </tr>\n",
       "    <tr>\n",
       "      <th>AcceptedCmp3</th>\n",
       "      <td>2236.0</td>\n",
       "      <td>0.072898</td>\n",
       "      <td>0.260027</td>\n",
       "      <td>0.0</td>\n",
       "      <td>0.0</td>\n",
       "      <td>0.0</td>\n",
       "      <td>0.00</td>\n",
       "      <td>1.0</td>\n",
       "    </tr>\n",
       "    <tr>\n",
       "      <th>AcceptedCmp4</th>\n",
       "      <td>2236.0</td>\n",
       "      <td>0.074687</td>\n",
       "      <td>0.262944</td>\n",
       "      <td>0.0</td>\n",
       "      <td>0.0</td>\n",
       "      <td>0.0</td>\n",
       "      <td>0.00</td>\n",
       "      <td>1.0</td>\n",
       "    </tr>\n",
       "    <tr>\n",
       "      <th>AcceptedCmp5</th>\n",
       "      <td>2236.0</td>\n",
       "      <td>0.072451</td>\n",
       "      <td>0.259291</td>\n",
       "      <td>0.0</td>\n",
       "      <td>0.0</td>\n",
       "      <td>0.0</td>\n",
       "      <td>0.00</td>\n",
       "      <td>1.0</td>\n",
       "    </tr>\n",
       "    <tr>\n",
       "      <th>AcceptedCmp1</th>\n",
       "      <td>2236.0</td>\n",
       "      <td>0.064401</td>\n",
       "      <td>0.245520</td>\n",
       "      <td>0.0</td>\n",
       "      <td>0.0</td>\n",
       "      <td>0.0</td>\n",
       "      <td>0.00</td>\n",
       "      <td>1.0</td>\n",
       "    </tr>\n",
       "    <tr>\n",
       "      <th>AcceptedCmp2</th>\n",
       "      <td>2236.0</td>\n",
       "      <td>0.013417</td>\n",
       "      <td>0.115077</td>\n",
       "      <td>0.0</td>\n",
       "      <td>0.0</td>\n",
       "      <td>0.0</td>\n",
       "      <td>0.00</td>\n",
       "      <td>1.0</td>\n",
       "    </tr>\n",
       "    <tr>\n",
       "      <th>Complain</th>\n",
       "      <td>2236.0</td>\n",
       "      <td>0.008945</td>\n",
       "      <td>0.094173</td>\n",
       "      <td>0.0</td>\n",
       "      <td>0.0</td>\n",
       "      <td>0.0</td>\n",
       "      <td>0.00</td>\n",
       "      <td>1.0</td>\n",
       "    </tr>\n",
       "    <tr>\n",
       "      <th>Response</th>\n",
       "      <td>2236.0</td>\n",
       "      <td>0.149374</td>\n",
       "      <td>0.356536</td>\n",
       "      <td>0.0</td>\n",
       "      <td>0.0</td>\n",
       "      <td>0.0</td>\n",
       "      <td>0.00</td>\n",
       "      <td>1.0</td>\n",
       "    </tr>\n",
       "    <tr>\n",
       "      <th>Total_Expenses</th>\n",
       "      <td>2236.0</td>\n",
       "      <td>605.986583</td>\n",
       "      <td>601.865156</td>\n",
       "      <td>5.0</td>\n",
       "      <td>69.0</td>\n",
       "      <td>396.5</td>\n",
       "      <td>1045.50</td>\n",
       "      <td>2525.0</td>\n",
       "    </tr>\n",
       "    <tr>\n",
       "      <th>Children</th>\n",
       "      <td>2236.0</td>\n",
       "      <td>0.950805</td>\n",
       "      <td>0.752204</td>\n",
       "      <td>0.0</td>\n",
       "      <td>0.0</td>\n",
       "      <td>1.0</td>\n",
       "      <td>1.00</td>\n",
       "      <td>3.0</td>\n",
       "    </tr>\n",
       "    <tr>\n",
       "      <th>Age</th>\n",
       "      <td>2236.0</td>\n",
       "      <td>52.101968</td>\n",
       "      <td>11.703281</td>\n",
       "      <td>25.0</td>\n",
       "      <td>44.0</td>\n",
       "      <td>51.0</td>\n",
       "      <td>62.00</td>\n",
       "      <td>81.0</td>\n",
       "    </tr>\n",
       "  </tbody>\n",
       "</table>\n",
       "</div>"
      ],
      "text/plain": [
       "                      count          mean           std     min      25%  \\\n",
       "Income               2236.0  51961.906544  21411.404811  1730.0  35502.5   \n",
       "Recency              2236.0     49.116279     28.957284     0.0     24.0   \n",
       "MntWines             2236.0    304.127460    336.591810     0.0     24.0   \n",
       "MntFruits            2236.0     26.275939     39.724007     0.0      1.0   \n",
       "MntMeatProducts      2236.0    166.983453    225.689645     0.0     16.0   \n",
       "MntFishProducts      2236.0     37.536225     54.648562     0.0      3.0   \n",
       "MntSweetProducts     2236.0     27.080501     41.299504     0.0      1.0   \n",
       "MntGoldProds         2236.0     43.983005     52.061568     0.0      9.0   \n",
       "NumDealsPurchases    2236.0      2.326029      1.933032     0.0      1.0   \n",
       "NumWebPurchases      2236.0      4.087657      2.779988     0.0      2.0   \n",
       "NumCatalogPurchases  2236.0      2.663238      2.923898     0.0      0.0   \n",
       "NumStorePurchases    2236.0      5.795617      3.251129     0.0      3.0   \n",
       "NumWebVisitsMonth    2236.0      5.318873      2.426886     0.0      3.0   \n",
       "AcceptedCmp3         2236.0      0.072898      0.260027     0.0      0.0   \n",
       "AcceptedCmp4         2236.0      0.074687      0.262944     0.0      0.0   \n",
       "AcceptedCmp5         2236.0      0.072451      0.259291     0.0      0.0   \n",
       "AcceptedCmp1         2236.0      0.064401      0.245520     0.0      0.0   \n",
       "AcceptedCmp2         2236.0      0.013417      0.115077     0.0      0.0   \n",
       "Complain             2236.0      0.008945      0.094173     0.0      0.0   \n",
       "Response             2236.0      0.149374      0.356536     0.0      0.0   \n",
       "Total_Expenses       2236.0    605.986583    601.865156     5.0     69.0   \n",
       "Children             2236.0      0.950805      0.752204     0.0      0.0   \n",
       "Age                  2236.0     52.101968     11.703281    25.0     44.0   \n",
       "\n",
       "                         50%       75%       max  \n",
       "Income               51684.0  68275.75  162397.0  \n",
       "Recency                 49.0     74.00      99.0  \n",
       "MntWines               174.0    504.25    1493.0  \n",
       "MntFruits                8.0     33.00     199.0  \n",
       "MntMeatProducts         67.0    232.00    1725.0  \n",
       "MntFishProducts         12.0     50.00     259.0  \n",
       "MntSweetProducts         8.0     33.00     263.0  \n",
       "MntGoldProds            24.0     56.00     362.0  \n",
       "NumDealsPurchases        2.0      3.00      15.0  \n",
       "NumWebPurchases          4.0      6.00      27.0  \n",
       "NumCatalogPurchases      2.0      4.00      28.0  \n",
       "NumStorePurchases        5.0      8.00      13.0  \n",
       "NumWebVisitsMonth        6.0      7.00      20.0  \n",
       "AcceptedCmp3             0.0      0.00       1.0  \n",
       "AcceptedCmp4             0.0      0.00       1.0  \n",
       "AcceptedCmp5             0.0      0.00       1.0  \n",
       "AcceptedCmp1             0.0      0.00       1.0  \n",
       "AcceptedCmp2             0.0      0.00       1.0  \n",
       "Complain                 0.0      0.00       1.0  \n",
       "Response                 0.0      0.00       1.0  \n",
       "Total_Expenses         396.5   1045.50    2525.0  \n",
       "Children                 1.0      1.00       3.0  \n",
       "Age                     51.0     62.00      81.0  "
      ]
     },
     "execution_count": 6,
     "metadata": {},
     "output_type": "execute_result"
    }
   ],
   "source": [
    "c_data.describe().T"
   ]
  },
  {
   "cell_type": "markdown",
   "id": "2eb0c56c",
   "metadata": {},
   "source": [
    "## 2.3 Analyzing Variables"
   ]
  },
  {
   "cell_type": "markdown",
   "id": "d49e2c77",
   "metadata": {},
   "source": [
    "### 2.3.1 Education"
   ]
  },
  {
   "cell_type": "code",
   "execution_count": 21,
   "id": "56856888",
   "metadata": {},
   "outputs": [
    {
     "data": {
      "text/plain": [
       "<Figure size 504x504 with 0 Axes>"
      ]
     },
     "execution_count": 21,
     "metadata": {},
     "output_type": "execute_result"
    },
    {
     "data": {
      "image/png": "[encoded data removed]",
      "text/plain": [
       "<Figure size 432x288 with 1 Axes>"
      ]
     },
     "metadata": {
      "needs_background": "light"
     },
     "output_type": "display_data"
    },
    {
     "data": {
      "text/plain": [
       "<Figure size 504x504 with 0 Axes>"
      ]
     },
     "metadata": {},
     "output_type": "display_data"
    }
   ],
   "source": [
    "c_data['Education'].value_counts().plot(kind='bar',color = 'green',edgecolor='black')\n",
    "plt.title(\"Customer Education Data\",fontsize=15)\n",
    "plt.figure(figsize=(7,7))"
   ]
  },
  {
   "cell_type": "code",
   "execution_count": 9,
   "id": "11fa4669",
   "metadata": {
    "scrolled": true
   },
   "outputs": [
    {
     "data": {
      "text/plain": [
       "Undergraduate    50.4%\n",
       "Master           25.5%\n",
       "PhD              21.7%\n",
       "Highschool        2.4%\n",
       "Name: Education, dtype: object"
      ]
     },
     "execution_count": 9,
     "metadata": {},
     "output_type": "execute_result"
    }
   ],
   "source": [
    "c_data[\"Education\"].value_counts(normalize=True).mul(100).round(1).astype(str) + '%'"
   ]
  },
  {
   "cell_type": "markdown",
   "id": "47e2bd51",
   "metadata": {},
   "source": [
    "More than half of the customers only have undergraduate degree  "
   ]
  },
  {
   "cell_type": "markdown",
   "id": "ba3f4ae3",
   "metadata": {},
   "source": [
    "### 2.3.2 Income"
   ]
  },
  {
   "cell_type": "code",
   "execution_count": 26,
   "id": "05f6645a",
   "metadata": {
    "scrolled": true
   },
   "outputs": [
    {
     "data": {
      "image/png": "[encoded data removed]",
      "text/plain": [
       "<Figure size 576x576 with 1 Axes>"
      ]
     },
     "metadata": {
      "needs_background": "light"
     },
     "output_type": "display_data"
    }
   ],
   "source": [
    "plt.figure(figsize=(8,8))\n",
    "plt.hist(c_data[\"Income\"],color = 'green',edgecolor='black')\n",
    "plt.show()"
   ]
  },
  {
   "cell_type": "code",
   "execution_count": 23,
   "id": "49c8cfbc",
   "metadata": {
    "scrolled": false
   },
   "outputs": [
    {
     "data": {
      "text/plain": [
       "count      2236.000000\n",
       "mean      51961.906544\n",
       "std       21411.404811\n",
       "min        1730.000000\n",
       "25%       35502.500000\n",
       "50%       51684.000000\n",
       "75%       68275.750000\n",
       "max      162397.000000\n",
       "Name: Income, dtype: float64"
      ]
     },
     "execution_count": 23,
     "metadata": {},
     "output_type": "execute_result"
    }
   ],
   "source": [
    "c_data[\"Income\"].describe()"
   ]
  },
  {
   "cell_type": "markdown",
   "id": "f80f2b53",
   "metadata": {},
   "source": [
    "### 2.3.3 Total_Expenses "
   ]
  },
  {
   "cell_type": "code",
   "execution_count": 35,
   "id": "b8a5f4d3",
   "metadata": {
    "scrolled": true
   },
   "outputs": [
    {
     "data": {
      "image/png": "[encoded data removed]",
      "text/plain": [
       "<Figure size 576x576 with 1 Axes>"
      ]
     },
     "metadata": {
      "needs_background": "light"
     },
     "output_type": "display_data"
    }
   ],
   "source": [
    "plt.figure(figsize=(8,8))\n",
    "plt.hist(c_data[\"Total_Expenses\"],color = 'green',edgecolor='black')\n",
    "plt.show()"
   ]
  },
  {
   "cell_type": "code",
   "execution_count": 37,
   "id": "71d6cd73",
   "metadata": {},
   "outputs": [
    {
     "data": {
      "text/plain": [
       "count    2236.000000\n",
       "mean      605.986583\n",
       "std       601.865156\n",
       "min         5.000000\n",
       "25%        69.000000\n",
       "50%       396.500000\n",
       "75%      1045.500000\n",
       "max      2525.000000\n",
       "Name: Total_Expenses, dtype: float64"
      ]
     },
     "execution_count": 37,
     "metadata": {},
     "output_type": "execute_result"
    }
   ],
   "source": [
    "c_data[\"Total_Expenses\"].describe()"
   ]
  },
  {
   "cell_type": "markdown",
   "id": "22e7ee58",
   "metadata": {},
   "source": [
    "### 2.3.3 Total_Accepted_Cmp"
   ]
  },
  {
   "cell_type": "code",
   "execution_count": null,
   "id": "b74eda37",
   "metadata": {},
   "outputs": [],
   "source": []
  },
  {
   "cell_type": "markdown",
   "id": "ccc02a8e",
   "metadata": {},
   "source": [
    "## 2.4 Data Wrangling"
   ]
  },
  {
   "cell_type": "code",
   "execution_count": null,
   "id": "42b87f84",
   "metadata": {},
   "outputs": [],
   "source": [
    "c_data['Education'].value_counts()"
   ]
  },
  {
   "cell_type": "code",
   "execution_count": null,
   "id": "18e2b521",
   "metadata": {},
   "outputs": [],
   "source": [
    "#Changing Education data with numerical values\n",
    "# c_data['Education'] = c_data['Education'].str.replace('Highschool', '0')\n",
    "# c_data['Education'] = c_data['Education'].str.replace('Undergraduate', '1')\n",
    "# c_data['Education'] = c_data['Education'].str.replace('Master', '2')\n",
    "# c_data['Education'] = c_data['Education'].str.replace('PhD', '3')"
   ]
  },
  {
   "cell_type": "code",
   "execution_count": null,
   "id": "ec8c1134",
   "metadata": {},
   "outputs": [],
   "source": [
    "c_data['Relationship Status'].value_counts()"
   ]
  },
  {
   "cell_type": "code",
   "execution_count": null,
   "id": "1a0b982a",
   "metadata": {},
   "outputs": [],
   "source": [
    "#Changing Relationship Status with numerical values\n",
    "# c_data['Relationship Status'] = c_data['Relationship Status'].str.replace('Single', '0')\n",
    "# c_data['Relationship Status'] = c_data['Relationship Status'].str.replace('Couple', '1')"
   ]
  },
  {
   "cell_type": "code",
   "execution_count": null,
   "id": "fae09a69",
   "metadata": {},
   "outputs": [],
   "source": [
    "# c_data['Education'] = pd.to_numeric(c_data['Education'],errors = 'coerce')\n",
    "# c_data['Relationship Status'] = pd.to_numeric(c_data['Relationship Status'],errors = 'coerce')"
   ]
  },
  {
   "cell_type": "code",
   "execution_count": null,
   "id": "a4c10dbf",
   "metadata": {},
   "outputs": [],
   "source": [
    "c_data.info()"
   ]
  },
  {
   "cell_type": "markdown",
   "id": "001eb952",
   "metadata": {},
   "source": [
    "## 2.5 Exploring the Data"
   ]
  },
  {
   "cell_type": "markdown",
   "id": "a4591ee5",
   "metadata": {},
   "source": [
    "## 2.5.1 Visualizing High Dimensional Data"
   ]
  },
  {
   "cell_type": "markdown",
   "id": "95ce0c56",
   "metadata": {},
   "source": [
    "The basic steps in this process are:\n",
    "\n",
    "1. scale the data (important here because our features are heterogenous)\n",
    "2. fit the PCA transformation (learn the transformation from the data)\n",
    "3. apply the transformation to the data to create the derived features\n",
    "4. (optionally) use the derived features to look for patterns in the data and explore the coefficients"
   ]
  },
  {
   "cell_type": "markdown",
   "id": "51890c55",
   "metadata": {},
   "source": [
    "#### Scale the data"
   ]
  },
  {
   "cell_type": "raw",
   "id": "f3b1c232",
   "metadata": {},
   "source": [
    "We need to reduce number of features to more efficiently apply dimensionality reduction. We can start by dropping the correlated columns."
   ]
  },
  {
   "cell_type": "code",
   "execution_count": null,
   "id": "98c92aab",
   "metadata": {},
   "outputs": [],
   "source": [
    "#Dropping promotion data\n",
    "promotion = ['AcceptedCmp3', 'AcceptedCmp4', 'AcceptedCmp5', 'AcceptedCmp1',\n",
    "       'AcceptedCmp2', 'Response']\n",
    "\n",
    "#Dropping product purchase data because we already combined them under 'Total_Expenses'\n",
    "product_pur = ['MntWines', 'MntFruits', 'MntMeatProducts', 'MntFishProducts', 'MntSweetProducts', 'MntGoldProds']\n",
    "\n",
    "#Dropping 'Dt_Customer' because it is object data type\n",
    "dt_cust = ['Dt_Customer']\n",
    "\n",
    "drop_col = promotion + product_pur + dt_cust\n",
    "\n",
    "new_data = c_data.drop(drop_col, axis=1)"
   ]
  },
  {
   "cell_type": "code",
   "execution_count": null,
   "id": "90abe9ee",
   "metadata": {},
   "outputs": [],
   "source": [
    "new_data.columns"
   ]
  },
  {
   "cell_type": "code",
   "execution_count": null,
   "id": "2e0760dd",
   "metadata": {},
   "outputs": [],
   "source": [
    "#Saving the columns\n",
    "new_data_columns = new_data.columns"
   ]
  },
  {
   "cell_type": "code",
   "execution_count": null,
   "id": "fe8c7c10",
   "metadata": {},
   "outputs": [],
   "source": [
    "new_data.head()"
   ]
  },
  {
   "cell_type": "code",
   "execution_count": null,
   "id": "3e8101bb",
   "metadata": {
    "scrolled": true
   },
   "outputs": [],
   "source": [
    "new_data = scale(new_data)\n",
    "scaled_new_data = pd.DataFrame(new_data, columns= new_data_columns)\n",
    "scaled_new_data.head()"
   ]
  },
  {
   "cell_type": "markdown",
   "id": "0c1287c7",
   "metadata": {},
   "source": [
    "#### Calculate the PCA transformation"
   ]
  },
  {
   "cell_type": "code",
   "execution_count": null,
   "id": "e07cb2df",
   "metadata": {},
   "outputs": [],
   "source": [
    "new_data_pca = PCA().fit(scaled_new_data)"
   ]
  },
  {
   "cell_type": "code",
   "execution_count": null,
   "id": "fa3f4954",
   "metadata": {},
   "outputs": [],
   "source": [
    "PCA_ds = pd.DataFrame(pca.transform(scaled_ds), columns=([\"col1\",\"col2\", \"col3\"]))\n",
    "PCA_ds.describe().T"
   ]
  },
  {
   "cell_type": "code",
   "execution_count": null,
   "id": "b707f1a2",
   "metadata": {
    "scrolled": true
   },
   "outputs": [],
   "source": [
    "plt.subplots(figsize=(10, 6))\n",
    "plt.plot(new_data_pca.explained_variance_ratio_.cumsum())\n",
    "plt.xlabel('Component #')\n",
    "plt.ylabel('Cumulative ratio variance')\n",
    "plt.title('Cumulative variance ratio explained by PCA components for customer summary statistics');"
   ]
  },
  {
   "cell_type": "markdown",
   "id": "a9f1ca67",
   "metadata": {},
   "source": [
    "First 3 Compenents explain over 60 percent variance in our data. Therefore, using these features would be helpful to get useful insights"
   ]
  },
  {
   "cell_type": "code",
   "execution_count": null,
   "id": "a565ea4c",
   "metadata": {},
   "outputs": [],
   "source": [
    "new_data_pca_x = new_data_pca.transform(scaled_new_data)"
   ]
  },
  {
   "cell_type": "code",
   "execution_count": null,
   "id": "a0e9de60",
   "metadata": {},
   "outputs": [],
   "source": [
    "new_data_pca_x.shape"
   ]
  },
  {
   "cell_type": "code",
   "execution_count": null,
   "id": "2c5f5421",
   "metadata": {
    "scrolled": false
   },
   "outputs": [],
   "source": [
    "c_corr = c_data.corr()\n",
    "plt.figure(figsize=(15,15))  \n",
    "sns.heatmap(c_corr, annot=True)"
   ]
  }
 ],
 "metadata": {
  "kernelspec": {
   "display_name": "Python 3",
   "language": "python",
   "name": "python3"
  },
  "language_info": {
   "codemirror_mode": {
    "name": "ipython",
    "version": 3
   },
   "file_extension": ".py",
   "mimetype": "text/x-python",
   "name": "python",
   "nbconvert_exporter": "python",
   "pygments_lexer": "ipython3",
   "version": "3.8.8"
  }
 },
 "nbformat": 4,
 "nbformat_minor": 5
}
